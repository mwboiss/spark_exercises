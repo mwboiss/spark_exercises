{
 "cells": [
  {
   "cell_type": "markdown",
   "id": "3b372227-d3b1-4797-a92a-8a3dc0a022fa",
   "metadata": {},
   "source": [
    "# Spark 101 Exercises"
   ]
  },
  {
   "cell_type": "code",
   "execution_count": 2,
   "id": "1f2e1bac-de1b-48de-87fb-169281398bbb",
   "metadata": {},
   "outputs": [],
   "source": [
    "import pandas as pd\n",
    "import numpy as np\n",
    "import pyspark\n",
    "\n",
    "from pyspark.sql.functions import col, expr, concat,\\\n",
    "sum, avg, min, max, count, mean, lit, regexp_extract,\\\n",
    "regexp_replace, when, asc, desc, month, year, quarter\n",
    "\n",
    "spark = pyspark.sql.SparkSession.builder.getOrCreate()\n",
    "\n",
    "import warnings\n",
    "warnings.filterwarnings('ignore')"
   ]
  },
  {
   "cell_type": "markdown",
   "id": "9cc13646-38ad-468c-ad36-cf4a81c54d87",
   "metadata": {
    "tags": []
   },
   "source": [
    "### 1) Create a spark data frame that contains your favorite programming languages."
   ]
  },
  {
   "cell_type": "code",
   "execution_count": null,
   "id": "3a6b4e5c-67f9-47e9-9e17-2b0c2b52c62d",
   "metadata": {},
   "outputs": [],
   "source": []
  },
  {
   "cell_type": "markdown",
   "id": "3aceadf9-73f9-4c21-ad5d-3b208cb42546",
   "metadata": {},
   "source": [
    "- The name of the column should be language"
   ]
  },
  {
   "cell_type": "code",
   "execution_count": null,
   "id": "6641a9ea-1217-444a-86bd-20781f20c535",
   "metadata": {},
   "outputs": [],
   "source": []
  },
  {
   "cell_type": "markdown",
   "id": "28cbd3af-e93e-4120-8696-dc2a907b37d8",
   "metadata": {},
   "source": [
    "- View the schema of the dataframe"
   ]
  },
  {
   "cell_type": "code",
   "execution_count": null,
   "id": "55ee3920-1f68-487c-9f6b-5decf7e5ae7a",
   "metadata": {},
   "outputs": [],
   "source": []
  },
  {
   "cell_type": "markdown",
   "id": "eb09588a-6d19-45a2-98d6-ba0893023662",
   "metadata": {},
   "source": [
    "- Output the shape of the dataframe"
   ]
  },
  {
   "cell_type": "code",
   "execution_count": null,
   "id": "d537f15b-421b-44f3-9d6f-956863584a39",
   "metadata": {},
   "outputs": [],
   "source": []
  },
  {
   "cell_type": "markdown",
   "id": "8a4a3b23-e0a5-40db-bde1-f9e9db32f64f",
   "metadata": {},
   "source": [
    "- Show the first 5 records in the dataframe"
   ]
  },
  {
   "cell_type": "code",
   "execution_count": null,
   "id": "02023a82-17b7-46fb-9530-113b9e09c8d5",
   "metadata": {},
   "outputs": [],
   "source": []
  },
  {
   "cell_type": "markdown",
   "id": "8cb4d6b7-230b-4508-bdd1-fd5d038ad457",
   "metadata": {
    "tags": []
   },
   "source": [
    "### 2) Load the mpg dataset as a spark dataframe."
   ]
  },
  {
   "cell_type": "code",
   "execution_count": null,
   "id": "27c3ed15-9386-44a0-b490-f6232363f968",
   "metadata": {},
   "outputs": [],
   "source": []
  },
  {
   "cell_type": "markdown",
   "id": "4ca2bf9b-dbe0-4d2a-8887-f885ae47e947",
   "metadata": {},
   "source": [
    "- Create 1 column of output that contains a message like the one below:"
   ]
  },
  {
   "cell_type": "raw",
   "id": "e5df5f80-3712-48d9-bbaa-27e0e8e0ca7d",
   "metadata": {},
   "source": [
    "The 1999 audi a4 has a 4 cylinder engine."
   ]
  },
  {
   "cell_type": "markdown",
   "id": "0c8d2feb-6404-4e44-b8e8-62393e1775d4",
   "metadata": {},
   "source": [
    "For each vehicle."
   ]
  },
  {
   "cell_type": "code",
   "execution_count": null,
   "id": "900971d3-c94b-4598-a2f5-6633c275172e",
   "metadata": {},
   "outputs": [],
   "source": []
  },
  {
   "cell_type": "markdown",
   "id": "f31108dc-e602-4f48-8080-a4f076da2309",
   "metadata": {},
   "source": [
    "- Transform the trans column so that it only contains either manual or auto."
   ]
  },
  {
   "cell_type": "code",
   "execution_count": null,
   "id": "776618b4-c375-4a4f-a176-ef97abbc2c4a",
   "metadata": {},
   "outputs": [],
   "source": []
  },
  {
   "cell_type": "markdown",
   "id": "f1503d4f-eb4b-43bb-b599-1192050bd767",
   "metadata": {
    "tags": []
   },
   "source": [
    "### 3) Load the tips dataset as a spark dataframe."
   ]
  },
  {
   "cell_type": "code",
   "execution_count": null,
   "id": "ad09d84d-18a4-4b7d-8257-a38b0471ae7d",
   "metadata": {},
   "outputs": [],
   "source": []
  },
  {
   "cell_type": "markdown",
   "id": "d58a0ce1-c7be-4e34-8554-4151eda09e62",
   "metadata": {},
   "source": [
    "- What percentage of observations are smokers?"
   ]
  },
  {
   "cell_type": "code",
   "execution_count": null,
   "id": "c955e2b1-9dca-46f7-8c40-b3d3070f30a9",
   "metadata": {},
   "outputs": [],
   "source": []
  },
  {
   "cell_type": "markdown",
   "id": "80bcbfa4-6d3c-4619-b2dc-79d842a11c6d",
   "metadata": {},
   "source": [
    "- Create a column that contains the tip percentage"
   ]
  },
  {
   "cell_type": "code",
   "execution_count": null,
   "id": "fb53d14c-65c9-4d3f-95b4-d48b48cb364d",
   "metadata": {},
   "outputs": [],
   "source": []
  },
  {
   "cell_type": "markdown",
   "id": "39d442b1-429e-40bf-9a19-22d510d97d97",
   "metadata": {},
   "source": [
    "- Calculate the average tip percentage for each combination of sex and smoker."
   ]
  },
  {
   "cell_type": "code",
   "execution_count": null,
   "id": "1f56add3-96e0-4b6e-baec-3d9b1a3998ea",
   "metadata": {},
   "outputs": [],
   "source": []
  },
  {
   "cell_type": "markdown",
   "id": "a8298730-daa0-497a-a644-b55de1de527f",
   "metadata": {
    "tags": []
   },
   "source": [
    "### 4) Use the seattle weather dataset referenced in the lesson to answer the questions below."
   ]
  },
  {
   "cell_type": "code",
   "execution_count": null,
   "id": "fa99befa-60b5-4f95-b0d3-403ea8bd0f91",
   "metadata": {},
   "outputs": [],
   "source": []
  },
  {
   "cell_type": "markdown",
   "id": "59ab5092-a05e-4da1-a045-cefc2d590182",
   "metadata": {},
   "source": [
    "- Convert the temperatures to fahrenheit."
   ]
  },
  {
   "cell_type": "code",
   "execution_count": null,
   "id": "e4b19da4-3c2c-474c-9e4c-aeb8fae758ad",
   "metadata": {},
   "outputs": [],
   "source": []
  },
  {
   "cell_type": "markdown",
   "id": "fb3c5921-ab7c-4aed-ad1d-43c95ff9a614",
   "metadata": {},
   "source": [
    "- Which month has the most rain, on average?"
   ]
  },
  {
   "cell_type": "code",
   "execution_count": null,
   "id": "2f69bd5f-51a8-458d-856a-016f80383ad3",
   "metadata": {},
   "outputs": [],
   "source": []
  },
  {
   "cell_type": "markdown",
   "id": "c4e17363-7091-48b9-8a95-62f4792542cd",
   "metadata": {},
   "source": [
    "- Which year was the windiest?"
   ]
  },
  {
   "cell_type": "code",
   "execution_count": null,
   "id": "6ad35c4f-5c50-448e-acfb-c079e3507992",
   "metadata": {},
   "outputs": [],
   "source": []
  },
  {
   "cell_type": "markdown",
   "id": "23e918ab-1d13-42b5-9fba-d96dae86d223",
   "metadata": {},
   "source": [
    "- What is the most frequent type of weather in January?"
   ]
  },
  {
   "cell_type": "code",
   "execution_count": null,
   "id": "62f4fb72-b869-49c8-a44f-d7ab7c3a73b2",
   "metadata": {},
   "outputs": [],
   "source": []
  },
  {
   "cell_type": "markdown",
   "id": "6733f230-7e70-4048-ac47-27e86672b817",
   "metadata": {},
   "source": [
    "- What is the average high and low temperature on sunny days in July in 2013 and 2014?"
   ]
  },
  {
   "cell_type": "code",
   "execution_count": null,
   "id": "062eaa78-4239-4cf9-9817-211a224b37a4",
   "metadata": {},
   "outputs": [],
   "source": []
  },
  {
   "cell_type": "markdown",
   "id": "e9b569b3-4ac4-46ae-9f75-daa03e2c21d3",
   "metadata": {},
   "source": [
    "- What percentage of days were rainy in q3 of 2015?"
   ]
  },
  {
   "cell_type": "code",
   "execution_count": null,
   "id": "98205021-f50c-470f-a9eb-29f7b6e6b6a3",
   "metadata": {},
   "outputs": [],
   "source": []
  },
  {
   "cell_type": "markdown",
   "id": "ff4bf789-646c-4e85-97bc-f603dda2a8aa",
   "metadata": {},
   "source": [
    "- For each year, find what percentage of days it rained (had non-zero precipitation)."
   ]
  },
  {
   "cell_type": "code",
   "execution_count": null,
   "id": "98087360-b596-4dd6-8a54-b72e3520cb4c",
   "metadata": {},
   "outputs": [],
   "source": []
  }
 ],
 "metadata": {
  "kernelspec": {
   "display_name": "Python 3 (ipykernel)",
   "language": "python",
   "name": "python3"
  },
  "language_info": {
   "codemirror_mode": {
    "name": "ipython",
    "version": 3
   },
   "file_extension": ".py",
   "mimetype": "text/x-python",
   "name": "python",
   "nbconvert_exporter": "python",
   "pygments_lexer": "ipython3",
   "version": "3.9.7"
  }
 },
 "nbformat": 4,
 "nbformat_minor": 5
}
