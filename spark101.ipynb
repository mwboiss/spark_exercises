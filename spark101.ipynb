{
 "cells": [
  {
   "cell_type": "markdown",
   "id": "3b372227-d3b1-4797-a92a-8a3dc0a022fa",
   "metadata": {},
   "source": [
    "# Spark 101 Exercises"
   ]
  },
  {
   "cell_type": "code",
   "execution_count": 18,
   "id": "1f2e1bac-de1b-48de-87fb-169281398bbb",
   "metadata": {},
   "outputs": [],
   "source": [
    "import pandas as pd\n",
    "import numpy as np\n",
    "import pyspark\n",
    "from pydataset import data\n",
    "from pyspark.sql import functions as f\n",
    "\n",
    "spark = pyspark.sql.SparkSession.builder.getOrCreate()\n",
    "\n",
    "import warnings\n",
    "warnings.filterwarnings('ignore')"
   ]
  },
  {
   "cell_type": "markdown",
   "id": "9cc13646-38ad-468c-ad36-cf4a81c54d87",
   "metadata": {
    "tags": []
   },
   "source": [
    "### 1) Create a spark data frame that contains your favorite programming languages."
   ]
  },
  {
   "cell_type": "code",
   "execution_count": 6,
   "id": "3a6b4e5c-67f9-47e9-9e17-2b0c2b52c62d",
   "metadata": {},
   "outputs": [],
   "source": [
    "fav_lang = pd.DataFrame()\n",
    "fav_lang['language'] = ['Python','SQL','C','R','Java','HTML']\n",
    "df = spark.createDataFrame(fav_lang)"
   ]
  },
  {
   "cell_type": "markdown",
   "id": "3aceadf9-73f9-4c21-ad5d-3b208cb42546",
   "metadata": {},
   "source": [
    "- The name of the column should be language"
   ]
  },
  {
   "cell_type": "code",
   "execution_count": 8,
   "id": "6641a9ea-1217-444a-86bd-20781f20c535",
   "metadata": {},
   "outputs": [
    {
     "name": "stderr",
     "output_type": "stream",
     "text": [
      "                                                                                \r"
     ]
    },
    {
     "name": "stdout",
     "output_type": "stream",
     "text": [
      "+--------+\n",
      "|language|\n",
      "+--------+\n",
      "|  Python|\n",
      "|     SQL|\n",
      "|       C|\n",
      "|       R|\n",
      "|    Java|\n",
      "|    HTML|\n",
      "+--------+\n",
      "\n"
     ]
    }
   ],
   "source": [
    "df.select(df.language).show()"
   ]
  },
  {
   "cell_type": "markdown",
   "id": "28cbd3af-e93e-4120-8696-dc2a907b37d8",
   "metadata": {},
   "source": [
    "- View the schema of the dataframe"
   ]
  },
  {
   "cell_type": "code",
   "execution_count": 16,
   "id": "55ee3920-1f68-487c-9f6b-5decf7e5ae7a",
   "metadata": {},
   "outputs": [
    {
     "name": "stdout",
     "output_type": "stream",
     "text": [
      "root\n",
      " |-- language: string (nullable = true)\n",
      "\n"
     ]
    }
   ],
   "source": [
    "df.printSchema()"
   ]
  },
  {
   "cell_type": "markdown",
   "id": "eb09588a-6d19-45a2-98d6-ba0893023662",
   "metadata": {},
   "source": [
    "- Output the shape of the dataframe"
   ]
  },
  {
   "cell_type": "code",
   "execution_count": 14,
   "id": "d537f15b-421b-44f3-9d6f-956863584a39",
   "metadata": {},
   "outputs": [
    {
     "data": {
      "text/plain": [
       "(6, 1)"
      ]
     },
     "execution_count": 14,
     "metadata": {},
     "output_type": "execute_result"
    }
   ],
   "source": [
    "df.toPandas().shape"
   ]
  },
  {
   "cell_type": "markdown",
   "id": "8a4a3b23-e0a5-40db-bde1-f9e9db32f64f",
   "metadata": {},
   "source": [
    "- Show the first 5 records in the dataframe"
   ]
  },
  {
   "cell_type": "code",
   "execution_count": 15,
   "id": "02023a82-17b7-46fb-9530-113b9e09c8d5",
   "metadata": {},
   "outputs": [
    {
     "name": "stdout",
     "output_type": "stream",
     "text": [
      "+--------+\n",
      "|language|\n",
      "+--------+\n",
      "|  Python|\n",
      "|     SQL|\n",
      "|       C|\n",
      "|       R|\n",
      "|    Java|\n",
      "+--------+\n",
      "only showing top 5 rows\n",
      "\n"
     ]
    }
   ],
   "source": [
    "df.show(5)"
   ]
  },
  {
   "cell_type": "markdown",
   "id": "8cb4d6b7-230b-4508-bdd1-fd5d038ad457",
   "metadata": {
    "tags": []
   },
   "source": [
    "### 2) Load the mpg dataset as a spark dataframe."
   ]
  },
  {
   "cell_type": "code",
   "execution_count": 20,
   "id": "27c3ed15-9386-44a0-b490-f6232363f968",
   "metadata": {},
   "outputs": [],
   "source": [
    "mpg = spark.createDataFrame(data('mpg'))"
   ]
  },
  {
   "cell_type": "markdown",
   "id": "4ca2bf9b-dbe0-4d2a-8887-f885ae47e947",
   "metadata": {},
   "source": [
    "- Create 1 column of output that contains a message like the one below:"
   ]
  },
  {
   "cell_type": "raw",
   "id": "e5df5f80-3712-48d9-bbaa-27e0e8e0ca7d",
   "metadata": {},
   "source": [
    "The 1999 audi a4 has a 4 cylinder engine."
   ]
  },
  {
   "cell_type": "markdown",
   "id": "0c8d2feb-6404-4e44-b8e8-62393e1775d4",
   "metadata": {},
   "source": [
    "For each vehicle."
   ]
  },
  {
   "cell_type": "code",
   "execution_count": 28,
   "id": "900971d3-c94b-4598-a2f5-6633c275172e",
   "metadata": {},
   "outputs": [
    {
     "name": "stdout",
     "output_type": "stream",
     "text": [
      "+------------------------------------------------+\n",
      "|Model Explanation                               |\n",
      "+------------------------------------------------+\n",
      "|The 1999 audi a4 has a 4 cyliner engine.        |\n",
      "|The 1999 audi a4 has a 4 cyliner engine.        |\n",
      "|The 2008 audi a4 has a 4 cyliner engine.        |\n",
      "|The 2008 audi a4 has a 4 cyliner engine.        |\n",
      "|The 1999 audi a4 has a 6 cyliner engine.        |\n",
      "|The 1999 audi a4 has a 6 cyliner engine.        |\n",
      "|The 2008 audi a4 has a 6 cyliner engine.        |\n",
      "|The 1999 audi a4 quattro has a 4 cyliner engine.|\n",
      "|The 1999 audi a4 quattro has a 4 cyliner engine.|\n",
      "|The 2008 audi a4 quattro has a 4 cyliner engine.|\n",
      "+------------------------------------------------+\n",
      "only showing top 10 rows\n",
      "\n"
     ]
    }
   ],
   "source": [
    "mpg.select(\n",
    "    concat(\n",
    "        lit('The '),\n",
    "        mpg.year,\n",
    "        lit(' '),\n",
    "        mpg.manufacturer,\n",
    "        lit(' '),\n",
    "        mpg.model,\n",
    "        lit(' has a '),\n",
    "        mpg.cyl,\n",
    "        lit(' cyliner engine.')\n",
    "    ).alias('Model Explanation')\n",
    ").show(10, False)"
   ]
  },
  {
   "cell_type": "markdown",
   "id": "f31108dc-e602-4f48-8080-a4f076da2309",
   "metadata": {},
   "source": [
    "- Transform the trans column so that it only contains either manual or auto."
   ]
  },
  {
   "cell_type": "code",
   "execution_count": 40,
   "id": "776618b4-c375-4a4f-a176-ef97abbc2c4a",
   "metadata": {},
   "outputs": [
    {
     "name": "stdout",
     "output_type": "stream",
     "text": [
      "+----------+--------------+\n",
      "|     trans|manual_or_auto|\n",
      "+----------+--------------+\n",
      "|  auto(l5)|          auto|\n",
      "|manual(m5)|        manual|\n",
      "|manual(m6)|        manual|\n",
      "|  auto(av)|          auto|\n",
      "|  auto(l5)|          auto|\n",
      "|manual(m5)|        manual|\n",
      "|  auto(av)|          auto|\n",
      "|manual(m5)|        manual|\n",
      "|  auto(l5)|          auto|\n",
      "|manual(m6)|        manual|\n",
      "|  auto(s6)|          auto|\n",
      "|  auto(l5)|          auto|\n",
      "|manual(m5)|        manual|\n",
      "|  auto(s6)|          auto|\n",
      "|manual(m6)|        manual|\n",
      "|  auto(l5)|          auto|\n",
      "|  auto(s6)|          auto|\n",
      "|  auto(s6)|          auto|\n",
      "|  auto(l4)|          auto|\n",
      "|  auto(l4)|          auto|\n",
      "+----------+--------------+\n",
      "only showing top 20 rows\n",
      "\n"
     ]
    }
   ],
   "source": [
    "mpg.select(\n",
    "    mpg.trans,\n",
    "    regexp_extract('trans', r'\\w+',0).alias(\"manual_or_auto\")\n",
    ").show()"
   ]
  },
  {
   "cell_type": "markdown",
   "id": "f1503d4f-eb4b-43bb-b599-1192050bd767",
   "metadata": {
    "tags": []
   },
   "source": [
    "### 3) Load the tips dataset as a spark dataframe."
   ]
  },
  {
   "cell_type": "code",
   "execution_count": 41,
   "id": "ad09d84d-18a4-4b7d-8257-a38b0471ae7d",
   "metadata": {},
   "outputs": [],
   "source": [
    "tips = spark.createDataFrame(data('tips'))"
   ]
  },
  {
   "cell_type": "markdown",
   "id": "d58a0ce1-c7be-4e34-8554-4151eda09e62",
   "metadata": {},
   "source": [
    "- What percentage of observations are smokers?"
   ]
  },
  {
   "cell_type": "code",
   "execution_count": 50,
   "id": "c955e2b1-9dca-46f7-8c40-b3d3070f30a9",
   "metadata": {},
   "outputs": [
    {
     "name": "stdout",
     "output_type": "stream",
     "text": [
      "+-------------------+\n",
      "|    Percent_smokers|\n",
      "+-------------------+\n",
      "|0.38114754098360654|\n",
      "+-------------------+\n",
      "\n"
     ]
    }
   ],
   "source": [
    "tips.agg(mean(when(tips.smoker == 'Yes',1).otherwise(0)).alias(\"Percent_smokers\")).show()"
   ]
  },
  {
   "cell_type": "markdown",
   "id": "80bcbfa4-6d3c-4619-b2dc-79d842a11c6d",
   "metadata": {},
   "source": [
    "- Create a column that contains the tip percentage"
   ]
  },
  {
   "cell_type": "code",
   "execution_count": 59,
   "id": "fb53d14c-65c9-4d3f-95b4-d48b48cb364d",
   "metadata": {},
   "outputs": [
    {
     "name": "stdout",
     "output_type": "stream",
     "text": [
      "+----+----------+--------------+\n",
      "| tip|total_bill|tip_percentage|\n",
      "+----+----------+--------------+\n",
      "|1.01|     16.99|          0.06|\n",
      "|1.66|     10.34|          0.16|\n",
      "| 3.5|     21.01|          0.17|\n",
      "|3.31|     23.68|          0.14|\n",
      "|3.61|     24.59|          0.15|\n",
      "|4.71|     25.29|          0.19|\n",
      "| 2.0|      8.77|          0.23|\n",
      "|3.12|     26.88|          0.12|\n",
      "|1.96|     15.04|          0.13|\n",
      "|3.23|     14.78|          0.22|\n",
      "|1.71|     10.27|          0.17|\n",
      "| 5.0|     35.26|          0.14|\n",
      "|1.57|     15.42|           0.1|\n",
      "| 3.0|     18.43|          0.16|\n",
      "|3.02|     14.83|           0.2|\n",
      "|3.92|     21.58|          0.18|\n",
      "|1.67|     10.33|          0.16|\n",
      "|3.71|     16.29|          0.23|\n",
      "| 3.5|     16.97|          0.21|\n",
      "|3.35|     20.65|          0.16|\n",
      "+----+----------+--------------+\n",
      "only showing top 20 rows\n",
      "\n"
     ]
    }
   ],
   "source": [
    "tips.select(\n",
    "    tips.tip,\n",
    "    tips.total_bill,\n",
    "    f.round(\n",
    "        (tips.tip / tips.total_bill)\n",
    "        ,2)\n",
    "    .alias('tip_percentage')\n",
    ").show()"
   ]
  },
  {
   "cell_type": "markdown",
   "id": "39d442b1-429e-40bf-9a19-22d510d97d97",
   "metadata": {},
   "source": [
    "- Calculate the average tip percentage for each combination of sex and smoker."
   ]
  },
  {
   "cell_type": "code",
   "execution_count": 77,
   "id": "1f56add3-96e0-4b6e-baec-3d9b1a3998ea",
   "metadata": {},
   "outputs": [
    {
     "name": "stdout",
     "output_type": "stream",
     "text": [
      "+------+------+--------------+\n",
      "|   sex|smoker|tip_percentage|\n",
      "+------+------+--------------+\n",
      "|  Male|    No|          0.16|\n",
      "|Female|    No|          0.16|\n",
      "|  Male|   Yes|          0.15|\n",
      "|Female|   Yes|          0.18|\n",
      "+------+------+--------------+\n",
      "\n"
     ]
    }
   ],
   "source": [
    "tips.groupBy(tips.sex, tips.smoker).agg(\n",
    "    f.round(avg(\n",
    "            (tips.tip / tips.total_bill)\n",
    "        ),2\n",
    "           ).alias('tip_percentage')\n",
    ").show()"
   ]
  },
  {
   "cell_type": "markdown",
   "id": "a8298730-daa0-497a-a644-b55de1de527f",
   "metadata": {
    "tags": []
   },
   "source": [
    "### 4) Use the seattle weather dataset referenced in the lesson to answer the questions below."
   ]
  },
  {
   "cell_type": "code",
   "execution_count": 69,
   "id": "fa99befa-60b5-4f95-b0d3-403ea8bd0f91",
   "metadata": {},
   "outputs": [],
   "source": [
    "from vega_datasets import data as vega_data\n",
    "sw = spark.createDataFrame(vega_data('seattle_weather'))"
   ]
  },
  {
   "cell_type": "markdown",
   "id": "59ab5092-a05e-4da1-a045-cefc2d590182",
   "metadata": {},
   "source": [
    "- Convert the temperatures to fahrenheit."
   ]
  },
  {
   "cell_type": "code",
   "execution_count": 76,
   "id": "e4b19da4-3c2c-474c-9e4c-aeb8fae758ad",
   "metadata": {},
   "outputs": [
    {
     "name": "stdout",
     "output_type": "stream",
     "text": [
      "+-------------------+-------------------+\n",
      "|temp_max_fahrenheit|temp_min_fahrenheit|\n",
      "+-------------------+-------------------+\n",
      "|              55.04|               41.0|\n",
      "|              51.08|              37.04|\n",
      "|              53.06|              44.96|\n",
      "|              53.96|              42.08|\n",
      "|              48.02|              37.04|\n",
      "|              39.92|              35.96|\n",
      "|              44.96|              37.04|\n",
      "|               50.0|              37.04|\n",
      "|              48.92|               41.0|\n",
      "|              42.98|              33.08|\n",
      "|              42.98|              30.02|\n",
      "|              42.98|              28.94|\n",
      "|               41.0|              26.96|\n",
      "|              39.92|              33.08|\n",
      "|              33.98|              26.06|\n",
      "|              35.06|              26.96|\n",
      "|              37.94|               32.0|\n",
      "|               32.0|              26.96|\n",
      "|              30.02|              26.96|\n",
      "|              44.96|              30.02|\n",
      "+-------------------+-------------------+\n",
      "only showing top 20 rows\n",
      "\n"
     ]
    }
   ],
   "source": [
    "sw.select(\n",
    "    f.round((sw.temp_max * (9/5) + 32),2).alias('temp_max_fahrenheit'),\n",
    "    f.round((sw.temp_min * (9/5) + 32),2).alias('temp_min_fahrenheit')\n",
    ").show()"
   ]
  },
  {
   "cell_type": "markdown",
   "id": "fb3c5921-ab7c-4aed-ad1d-43c95ff9a614",
   "metadata": {},
   "source": [
    "- Which month has the most rain, on average?"
   ]
  },
  {
   "cell_type": "code",
   "execution_count": 94,
   "id": "2f69bd5f-51a8-458d-856a-016f80383ad3",
   "metadata": {},
   "outputs": [
    {
     "name": "stdout",
     "output_type": "stream",
     "text": [
      "+-----+--------------------------+\n",
      "|month|Average_rainfall_per_month|\n",
      "+-----+--------------------------+\n",
      "|    1|                      3.76|\n",
      "|    2|                      3.73|\n",
      "|    3|                      4.89|\n",
      "|    4|                      3.13|\n",
      "|    5|                      1.67|\n",
      "|    6|                      1.11|\n",
      "|    7|                      0.39|\n",
      "|    8|                      1.32|\n",
      "|    9|                      1.96|\n",
      "|   10|                      4.06|\n",
      "|   11|                      5.35|\n",
      "|   12|                      5.02|\n",
      "+-----+--------------------------+\n",
      "\n"
     ]
    }
   ],
   "source": [
    "sw.withColumn(\"month\",f.month(\"date\")\n",
    "             ).groupBy(\"month\").agg(\n",
    "                                f.round(\n",
    "                                    f.avg(\"precipitation\"),2\n",
    "                                        ).alias(\"Average_rainfall_per_month\")\n",
    "                                    ).sort('month').show()"
   ]
  },
  {
   "cell_type": "markdown",
   "id": "c4e17363-7091-48b9-8a95-62f4792542cd",
   "metadata": {},
   "source": [
    "- Which year was the windiest?"
   ]
  },
  {
   "cell_type": "code",
   "execution_count": 104,
   "id": "6ad35c4f-5c50-448e-acfb-c079e3507992",
   "metadata": {},
   "outputs": [
    {
     "name": "stdout",
     "output_type": "stream",
     "text": [
      "+----+----------+\n",
      "|year|Total_wind|\n",
      "+----+----------+\n",
      "|2012|    1244.7|\n",
      "+----+----------+\n",
      "only showing top 1 row\n",
      "\n"
     ]
    }
   ],
   "source": [
    "sw.withColumn('year',f.year('date')).groupBy('year').agg(f.round(f.sum('wind'),2).alias('Total_wind')).sort(asc('year')).show(1)"
   ]
  },
  {
   "cell_type": "markdown",
   "id": "23e918ab-1d13-42b5-9fba-d96dae86d223",
   "metadata": {},
   "source": [
    "- What is the most frequent type of weather in January?"
   ]
  },
  {
   "cell_type": "code",
   "execution_count": 117,
   "id": "62f4fb72-b869-49c8-a44f-d7ab7c3a73b2",
   "metadata": {},
   "outputs": [
    {
     "name": "stdout",
     "output_type": "stream",
     "text": [
      "+-----+-------+-----+\n",
      "|month|weather|count|\n",
      "+-----+-------+-----+\n",
      "|    1|    fog|   38|\n",
      "+-----+-------+-----+\n",
      "only showing top 1 row\n",
      "\n"
     ]
    }
   ],
   "source": [
    "sw.withColumn('month',f.month('date')\n",
    "             ).groupby('month','weather').agg(f.count('weather').alias('count')\n",
    "                                             ).sort(asc('month'),desc('count')).show(1)"
   ]
  },
  {
   "cell_type": "markdown",
   "id": "6733f230-7e70-4048-ac47-27e86672b817",
   "metadata": {},
   "source": [
    "- What is the average high and low temperature on sunny days in July in 2013 and 2014?"
   ]
  },
  {
   "cell_type": "code",
   "execution_count": 136,
   "id": "062eaa78-4239-4cf9-9817-211a224b37a4",
   "metadata": {},
   "outputs": [
    {
     "name": "stdout",
     "output_type": "stream",
     "text": [
      "+----+-----+-------+------------+------------+\n",
      "|year|month|weather|avg_temp_min|avg_temp_max|\n",
      "+----+-----+-------+------------+------------+\n",
      "|2013|    4|    sun|        6.79|        15.6|\n",
      "|2014|    4|    sun|        6.65|        16.8|\n",
      "+----+-----+-------+------------+------------+\n",
      "\n"
     ]
    }
   ],
   "source": [
    "(sw\n",
    ".filter(((f.year('date') == 2013) | (f.year('date') == 2014)) \n",
    "                                  & (f.month('date') == 4) \n",
    "                                  & (sw.weather == 'sun'))\n",
    ".groupby(f.year('date').alias('year'),\n",
    "         f.month('date').alias('month'),\n",
    "         'weather')\n",
    ".agg(f.round(f.avg('temp_min'),2).alias('avg_temp_min'),\n",
    "     f.round(f.avg('temp_max'),2).alias('avg_temp_max')\n",
    "    )\n",
    ").show()"
   ]
  },
  {
   "cell_type": "markdown",
   "id": "e9b569b3-4ac4-46ae-9f75-daa03e2c21d3",
   "metadata": {},
   "source": [
    "- What percentage of days were rainy in q3 of 2015?"
   ]
  },
  {
   "cell_type": "code",
   "execution_count": 187,
   "id": "98205021-f50c-470f-a9eb-29f7b6e6b6a3",
   "metadata": {},
   "outputs": [
    {
     "name": "stdout",
     "output_type": "stream",
     "text": [
      "+----------+-------------+--------------------------+\n",
      "|year(date)|quarter(date)|(avg(rain) + avg(drizzle))|\n",
      "+----------+-------------+--------------------------+\n",
      "|      2015|            3|       0.07608695652173914|\n",
      "+----------+-------------+--------------------------+\n",
      "\n"
     ]
    }
   ],
   "source": [
    "(sw.filter(\n",
    "    (f.year('date') == 2015) & (f.quarter('date') == 3))\n",
    "    .withColumn('rain' ,(sw.weather == 'rain').cast('int'))\n",
    "    .withColumn('drizzle' ,(sw.weather == 'drizzle').cast('int'))\n",
    " .groupby(f.year('date'), \n",
    "          f.quarter('date'))\n",
    " .agg(f.avg('rain') + f.avg('drizzle'))\n",
    " .show()\n",
    ")"
   ]
  },
  {
   "cell_type": "markdown",
   "id": "ff4bf789-646c-4e85-97bc-f603dda2a8aa",
   "metadata": {},
   "source": [
    "# For each year, find what percentage of days it rained (had non-zero precipitation)."
   ]
  },
  {
   "cell_type": "markdown",
   "id": "58c2768b-4602-438e-8eeb-0b479d611913",
   "metadata": {},
   "source": [
    "### If Fog, drizzle, snow and rain all count as non-zero percipiation"
   ]
  },
  {
   "cell_type": "code",
   "execution_count": 216,
   "id": "e43fb7e2-3b48-4d11-a383-d06c74e3e616",
   "metadata": {},
   "outputs": [
    {
     "name": "stdout",
     "output_type": "stream",
     "text": [
      "+----------+-----------------------------------------------------+\n",
      "|year(date)|(((avg(rain) + avg(drizzle)) + avg(fog)) + avg(snow))|\n",
      "+----------+-----------------------------------------------------+\n",
      "|      2012|                                   0.6775956284153005|\n",
      "|      2013|                                   0.4383561643835616|\n",
      "|      2014|                                   0.4219178082191781|\n",
      "|      2015|                                   0.5068493150684932|\n",
      "+----------+-----------------------------------------------------+\n",
      "\n"
     ]
    }
   ],
   "source": [
    "(sw.withColumn('rain' ,(sw.weather == 'rain').cast('int'))\n",
    "   .withColumn('drizzle' ,(sw.weather == 'drizzle').cast('int'))\n",
    "   .withColumn('fog' ,(sw.weather == 'fog').cast('int'))\n",
    "   .withColumn('snow' ,(sw.weather == 'snow').cast('int'))\n",
    "   .groupBy(f.year('date'))\n",
    "   .agg(f.avg('rain') + f.avg('drizzle') + f.avg('fog') + f.avg('snow'))\n",
    "   .show()\n",
    ")"
   ]
  },
  {
   "cell_type": "markdown",
   "id": "5a79fce1-4c7d-409b-bcd6-229c31501373",
   "metadata": {},
   "source": [
    "### Actual Problem"
   ]
  },
  {
   "cell_type": "code",
   "execution_count": 226,
   "id": "99946a52-afc4-4420-84fa-aaf11b5dc5c0",
   "metadata": {},
   "outputs": [
    {
     "name": "stderr",
     "output_type": "stream",
     "text": [
      "[Stage 331:>                                                        (0 + 8) / 8]\r"
     ]
    },
    {
     "name": "stdout",
     "output_type": "stream",
     "text": [
      "+----------+-------------------+\n",
      "|year(date)|      avg(non_zero)|\n",
      "+----------+-------------------+\n",
      "|      2012|0.48360655737704916|\n",
      "|      2013|0.41643835616438357|\n",
      "|      2014|  0.410958904109589|\n",
      "|      2015|0.39452054794520547|\n",
      "+----------+-------------------+\n",
      "\n"
     ]
    },
    {
     "name": "stderr",
     "output_type": "stream",
     "text": [
      "                                                                                \r"
     ]
    }
   ],
   "source": [
    "(sw\n",
    " .withColumn('non_zero',\n",
    "             (sw.precipitation > 0).cast('int'))\n",
    " .groupby(f.year('date'))\n",
    " .agg(f.avg('non_zero'))\n",
    ").show()"
   ]
  }
 ],
 "metadata": {
  "kernelspec": {
   "display_name": "Python 3 (ipykernel)",
   "language": "python",
   "name": "python3"
  },
  "language_info": {
   "codemirror_mode": {
    "name": "ipython",
    "version": 3
   },
   "file_extension": ".py",
   "mimetype": "text/x-python",
   "name": "python",
   "nbconvert_exporter": "python",
   "pygments_lexer": "ipython3",
   "version": "3.9.7"
  }
 },
 "nbformat": 4,
 "nbformat_minor": 5
}
