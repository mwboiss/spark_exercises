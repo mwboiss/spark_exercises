{
 "cells": [
  {
   "cell_type": "markdown",
   "id": "d99ad221-21b9-4e27-bebd-6873485fea65",
   "metadata": {},
   "source": [
    "# Spark API Mini Exercises"
   ]
  },
  {
   "cell_type": "markdown",
   "id": "877a9c76-f043-4217-a1df-4071f6bd4211",
   "metadata": {},
   "source": [
    "Copy the code below to create a pandas dataframe with 20 rows and 3 columns:"
   ]
  },
  {
   "cell_type": "code",
   "execution_count": 105,
   "id": "1f208b0c-aebc-4c77-8fb9-f84dd2f7ade4",
   "metadata": {},
   "outputs": [],
   "source": [
    "import pandas as pd\n",
    "import numpy as np\n",
    "import pyspark\n",
    "\n",
    "from pyspark.sql.functions import col, expr, concat,\\\n",
    "sum, avg, min, max, count, mean, lit, regexp_extract,\\\n",
    "regexp_replace, when, asc, desc, month, year, quarter\n",
    "\n",
    "spark = pyspark.sql.SparkSession.builder.getOrCreate()\n",
    "\n",
    "np.random.seed(13)\n",
    "\n",
    "import warnings\n",
    "warnings.filterwarnings('ignore')"
   ]
  },
  {
   "cell_type": "markdown",
   "id": "84fd78b1-5df3-4bb1-842c-5e18f729fd48",
   "metadata": {
    "tags": []
   },
   "source": [
    "## 1. Spark Dataframe Basics"
   ]
  },
  {
   "cell_type": "markdown",
   "id": "1a26f433-ffcc-4d3c-9039-5d8c0cfebd12",
   "metadata": {},
   "source": [
    "    1. Use the starter code above to create a pandas dataframe."
   ]
  },
  {
   "cell_type": "code",
   "execution_count": 19,
   "id": "75502787-318a-4f96-bb3b-00325a9d6171",
   "metadata": {},
   "outputs": [],
   "source": [
    "pandas_dataframe = pd.DataFrame(\n",
    "    {\n",
    "        \"n\": np.random.randn(20),\n",
    "        \"group\": np.random.choice(list(\"xyz\"), 20),\n",
    "        \"abool\": np.random.choice([True, False], 20),\n",
    "    }\n",
    ")"
   ]
  },
  {
   "cell_type": "markdown",
   "id": "e7dec2c2-71ef-45c7-9e18-e8662fda56db",
   "metadata": {},
   "source": [
    "    2. Convert the pandas dataframe to a spark dataframe. From this point\n",
    "       forward, do all of your work with the spark dataframe, not the pandas\n",
    "       dataframe."
   ]
  },
  {
   "cell_type": "code",
   "execution_count": 20,
   "id": "7d8ee458-25fa-434b-be8d-626b671bb15f",
   "metadata": {},
   "outputs": [],
   "source": [
    "df = spark.createDataFrame(pandas_dataframe)"
   ]
  },
  {
   "cell_type": "markdown",
   "id": "adf54300-9bce-4cf0-b15b-175f474b0c76",
   "metadata": {},
   "source": [
    "    3. Show the first 3 rows of the dataframe."
   ]
  },
  {
   "cell_type": "code",
   "execution_count": 21,
   "id": "36e9fb9e-a307-4ded-98e1-567c141a98a3",
   "metadata": {},
   "outputs": [
    {
     "name": "stdout",
     "output_type": "stream",
     "text": [
      "+--------------------+-----+-----+\n",
      "|                   n|group|abool|\n",
      "+--------------------+-----+-----+\n",
      "|  -0.712390662050588|    z|false|\n",
      "|   0.753766378659703|    x|false|\n",
      "|-0.04450307833805...|    z|false|\n",
      "+--------------------+-----+-----+\n",
      "only showing top 3 rows\n",
      "\n"
     ]
    }
   ],
   "source": [
    "df.show(3)"
   ]
  },
  {
   "cell_type": "markdown",
   "id": "fb820841-fbb7-4b8f-8127-90f484d57484",
   "metadata": {},
   "source": [
    "    4. Show the first 7 rows of the dataframe."
   ]
  },
  {
   "cell_type": "code",
   "execution_count": 22,
   "id": "c0761947-9ea7-4b90-8acf-3690cf584885",
   "metadata": {},
   "outputs": [
    {
     "name": "stdout",
     "output_type": "stream",
     "text": [
      "+--------------------+-----+-----+\n",
      "|                   n|group|abool|\n",
      "+--------------------+-----+-----+\n",
      "|  -0.712390662050588|    z|false|\n",
      "|   0.753766378659703|    x|false|\n",
      "|-0.04450307833805...|    z|false|\n",
      "| 0.45181233874578974|    y|false|\n",
      "|  1.3451017084510097|    z|false|\n",
      "|  0.5323378882945463|    y|false|\n",
      "|  1.3501878997225267|    z|false|\n",
      "+--------------------+-----+-----+\n",
      "only showing top 7 rows\n",
      "\n"
     ]
    }
   ],
   "source": [
    "df.show(7)"
   ]
  },
  {
   "cell_type": "markdown",
   "id": "ceebee9e-5079-4c30-9146-07d83dfb6600",
   "metadata": {},
   "source": [
    "    5. What is the difference between `.show` and `.head`?"
   ]
  },
  {
   "cell_type": "code",
   "execution_count": 23,
   "id": "bb182957-e4f5-4a61-b36b-3e4779278b82",
   "metadata": {},
   "outputs": [
    {
     "data": {
      "text/plain": [
       "Row(n=-0.712390662050588, group='z', abool=False)"
      ]
     },
     "execution_count": 23,
     "metadata": {},
     "output_type": "execute_result"
    }
   ],
   "source": [
    "df.head()"
   ]
  },
  {
   "cell_type": "code",
   "execution_count": 24,
   "id": "70fdd055-f6fc-4745-9ca7-01cba80a0023",
   "metadata": {},
   "outputs": [
    {
     "name": "stdout",
     "output_type": "stream",
     "text": [
      "+--------------------+-----+-----+\n",
      "|                   n|group|abool|\n",
      "+--------------------+-----+-----+\n",
      "|  -0.712390662050588|    z|false|\n",
      "|   0.753766378659703|    x|false|\n",
      "|-0.04450307833805...|    z|false|\n",
      "| 0.45181233874578974|    y|false|\n",
      "|  1.3451017084510097|    z|false|\n",
      "|  0.5323378882945463|    y|false|\n",
      "|  1.3501878997225267|    z|false|\n",
      "|  0.8612113741693206|    x|false|\n",
      "|  1.4786857374358966|    z| true|\n",
      "| -1.0453771305385342|    y| true|\n",
      "| -0.7889890249515489|    x|false|\n",
      "|  -1.261605945319069|    y|false|\n",
      "|  0.5628467852810314|    y| true|\n",
      "|-0.24332625188556253|    y| true|\n",
      "|  0.9137407048596775|    y|false|\n",
      "| 0.31735092273633597|    x|false|\n",
      "| 0.12730328020698067|    z|false|\n",
      "|  2.1503829673811126|    y| true|\n",
      "|  0.6062886568962988|    x|false|\n",
      "|-0.02677164998644...|    x| true|\n",
      "+--------------------+-----+-----+\n",
      "\n"
     ]
    }
   ],
   "source": [
    "df.show()"
   ]
  },
  {
   "cell_type": "markdown",
   "id": "bf6b62fe-97c0-4cde-886f-8568066c0417",
   "metadata": {},
   "source": [
    "- .head() shows the first row as a breakdown of type and value\n",
    "- .show() shows the first 20 rows"
   ]
  },
  {
   "cell_type": "markdown",
   "id": "da0f6b12-6093-468b-bcea-321218c1a8ee",
   "metadata": {},
   "source": [
    "    6. View a summary of the data using `.describe`."
   ]
  },
  {
   "cell_type": "code",
   "execution_count": 25,
   "id": "4b56cdd6-6549-4f27-b10c-de451367559e",
   "metadata": {},
   "outputs": [
    {
     "data": {
      "text/plain": [
       "DataFrame[summary: string, n: string, group: string]"
      ]
     },
     "execution_count": 25,
     "metadata": {},
     "output_type": "execute_result"
    }
   ],
   "source": [
    "df.describe()"
   ]
  },
  {
   "cell_type": "code",
   "execution_count": 26,
   "id": "d1b3e27f-2cdb-4964-8d6e-54c3d73c51a8",
   "metadata": {},
   "outputs": [
    {
     "name": "stdout",
     "output_type": "stream",
     "text": [
      "+-------+------------------+-----+\n",
      "|summary|                 n|group|\n",
      "+-------+------------------+-----+\n",
      "|  count|                20|   20|\n",
      "|   mean|0.3664026449885217| null|\n",
      "| stddev|0.8905322898155363| null|\n",
      "|    min|-1.261605945319069|    x|\n",
      "|    max|2.1503829673811126|    z|\n",
      "+-------+------------------+-----+\n",
      "\n"
     ]
    }
   ],
   "source": [
    "df.describe().show()"
   ]
  },
  {
   "cell_type": "markdown",
   "id": "2cf5b6ab-9c44-4193-bc50-46e9aeb84a0c",
   "metadata": {},
   "source": [
    "    7. Use `.select` to create a new dataframe with just the `n` and `abool`\n",
    "       columns. View the first 5 rows of this dataframe."
   ]
  },
  {
   "cell_type": "code",
   "execution_count": 28,
   "id": "6c5336ce-9573-4064-b630-7a1932ea3321",
   "metadata": {},
   "outputs": [
    {
     "name": "stdout",
     "output_type": "stream",
     "text": [
      "+--------------------+-----+\n",
      "|                   n|abool|\n",
      "+--------------------+-----+\n",
      "|  -0.712390662050588|false|\n",
      "|   0.753766378659703|false|\n",
      "|-0.04450307833805...|false|\n",
      "| 0.45181233874578974|false|\n",
      "|  1.3451017084510097|false|\n",
      "+--------------------+-----+\n",
      "only showing top 5 rows\n",
      "\n"
     ]
    }
   ],
   "source": [
    "df.select(df.n, df.abool).show(5)"
   ]
  },
  {
   "cell_type": "markdown",
   "id": "5f2f9162-376a-495a-b7dc-832ba9fddd71",
   "metadata": {},
   "source": [
    "    8. Use `.select` to create a new dataframe with just the `group` and `abool`\n",
    "       columns. View the first 5 rows of this dataframe."
   ]
  },
  {
   "cell_type": "code",
   "execution_count": 29,
   "id": "789ae20d-7910-414a-84dc-f8e060ddab3f",
   "metadata": {},
   "outputs": [
    {
     "name": "stdout",
     "output_type": "stream",
     "text": [
      "+-----+-----+\n",
      "|group|abool|\n",
      "+-----+-----+\n",
      "|    z|false|\n",
      "|    x|false|\n",
      "|    z|false|\n",
      "|    y|false|\n",
      "|    z|false|\n",
      "+-----+-----+\n",
      "only showing top 5 rows\n",
      "\n"
     ]
    }
   ],
   "source": [
    "df.select(df.group, df.abool).show(5)"
   ]
  },
  {
   "cell_type": "markdown",
   "id": "ee8e3fc4-d367-4ad5-8647-967764fd80d2",
   "metadata": {},
   "source": [
    "    9. Use `.select` to create a new dataframe with the `group` column and the\n",
    "       `abool` column renamed to `a_boolean_value`. Show the first 3 rows of\n",
    "       this dataframe."
   ]
  },
  {
   "cell_type": "code",
   "execution_count": 33,
   "id": "18cc553b-414d-47a3-98f5-5267fe2560c3",
   "metadata": {},
   "outputs": [
    {
     "name": "stdout",
     "output_type": "stream",
     "text": [
      "+-----+---------------+\n",
      "|group|a_boolean_value|\n",
      "+-----+---------------+\n",
      "|    z|          false|\n",
      "|    x|          false|\n",
      "|    z|          false|\n",
      "+-----+---------------+\n",
      "only showing top 3 rows\n",
      "\n"
     ]
    }
   ],
   "source": [
    "df.select(df.group, df.abool.alias('a_boolean_value')).show(3)"
   ]
  },
  {
   "cell_type": "markdown",
   "id": "31810496-9e91-4d84-961d-02299752bb6f",
   "metadata": {},
   "source": [
    "    10. Use `.select` to create a new dataframe with the `group` column and the\n",
    "       `n` column renamed to `a_numeric_value`. Show the first 6 rows of this\n",
    "       dataframe."
   ]
  },
  {
   "cell_type": "code",
   "execution_count": 34,
   "id": "6dab022b-721c-40f1-bfd0-35265110056b",
   "metadata": {},
   "outputs": [
    {
     "name": "stdout",
     "output_type": "stream",
     "text": [
      "+-----+--------------------+\n",
      "|group|     a_numeric_value|\n",
      "+-----+--------------------+\n",
      "|    z|  -0.712390662050588|\n",
      "|    x|   0.753766378659703|\n",
      "|    z|-0.04450307833805...|\n",
      "|    y| 0.45181233874578974|\n",
      "|    z|  1.3451017084510097|\n",
      "|    y|  0.5323378882945463|\n",
      "+-----+--------------------+\n",
      "only showing top 6 rows\n",
      "\n"
     ]
    }
   ],
   "source": [
    "df.select(df.group, df.n.alias('a_numeric_value')).show(6)"
   ]
  },
  {
   "cell_type": "markdown",
   "id": "5f6c7ac1-6400-4807-ac89-657caf5709a6",
   "metadata": {
    "tags": []
   },
   "source": [
    "## 2. Column Manipulation"
   ]
  },
  {
   "cell_type": "markdown",
   "id": "b898071a-69eb-4eaf-a570-2b4be6095d45",
   "metadata": {},
   "source": [
    "    1. Use the starter code above to re-create a spark dataframe. Store the\n",
    "       spark dataframe in a varaible named `df`"
   ]
  },
  {
   "cell_type": "code",
   "execution_count": 35,
   "id": "8a31b14f-3495-4c28-bf4b-23d08ed5c5b0",
   "metadata": {},
   "outputs": [],
   "source": [
    "df = spark.createDataFrame(pandas_dataframe)"
   ]
  },
  {
   "cell_type": "markdown",
   "id": "599014e9-5b65-4b83-8a9d-7798d4bf5341",
   "metadata": {},
   "source": [
    "    2. Use `.select` to add 4 to the `n` column. Show the results."
   ]
  },
  {
   "cell_type": "code",
   "execution_count": 36,
   "id": "396ab4b3-80ca-4c13-bc85-3f62e872b5cc",
   "metadata": {},
   "outputs": [
    {
     "name": "stdout",
     "output_type": "stream",
     "text": [
      "+------------------+\n",
      "|           (n + 4)|\n",
      "+------------------+\n",
      "|3.2876093379494122|\n",
      "| 4.753766378659703|\n",
      "|3.9554969216619464|\n",
      "|  4.45181233874579|\n",
      "|5.3451017084510095|\n",
      "| 4.532337888294546|\n",
      "| 5.350187899722527|\n",
      "|  4.86121137416932|\n",
      "| 5.478685737435897|\n",
      "| 2.954622869461466|\n",
      "|3.2110109750484512|\n",
      "| 2.738394054680931|\n",
      "| 4.562846785281032|\n",
      "|3.7566737481144377|\n",
      "| 4.913740704859677|\n",
      "| 4.317350922736336|\n",
      "| 4.127303280206981|\n",
      "| 6.150382967381113|\n",
      "| 4.606288656896298|\n",
      "|3.9732283500135592|\n",
      "+------------------+\n",
      "\n"
     ]
    }
   ],
   "source": [
    "df.select(df.n + 4).show()"
   ]
  },
  {
   "cell_type": "markdown",
   "id": "e2936441-474e-41eb-a417-ac96c216ce90",
   "metadata": {},
   "source": [
    "    3. Subtract 5 from the `n` column and view the results."
   ]
  },
  {
   "cell_type": "code",
   "execution_count": 38,
   "id": "0127ef28-ef61-46e1-9622-047a75bbcf3b",
   "metadata": {},
   "outputs": [
    {
     "name": "stdout",
     "output_type": "stream",
     "text": [
      "+-------------------+\n",
      "|            (n - 5)|\n",
      "+-------------------+\n",
      "| -5.712390662050588|\n",
      "| -4.246233621340297|\n",
      "| -5.044503078338053|\n",
      "|  -4.54818766125421|\n",
      "|-3.6548982915489905|\n",
      "| -4.467662111705454|\n",
      "|-3.6498121002774733|\n",
      "|  -4.13878862583068|\n",
      "| -3.521314262564103|\n",
      "| -6.045377130538534|\n",
      "| -5.788989024951549|\n",
      "| -6.261605945319069|\n",
      "| -4.437153214718968|\n",
      "| -5.243326251885563|\n",
      "| -4.086259295140323|\n",
      "| -4.682649077263664|\n",
      "| -4.872696719793019|\n",
      "|-2.8496170326188874|\n",
      "| -4.393711343103702|\n",
      "| -5.026771649986441|\n",
      "+-------------------+\n",
      "\n"
     ]
    }
   ],
   "source": [
    "df.select(df.n - 5).show()"
   ]
  },
  {
   "cell_type": "markdown",
   "id": "2308b9cc-9e9e-480b-81a5-057e27b824c4",
   "metadata": {},
   "source": [
    "    4. Multiply the `n` column by 2. View the results along with the original\n",
    "       numbers."
   ]
  },
  {
   "cell_type": "code",
   "execution_count": 39,
   "id": "d9d6520e-fc38-4ae1-96ec-ed83bb262b86",
   "metadata": {},
   "outputs": [
    {
     "name": "stdout",
     "output_type": "stream",
     "text": [
      "+--------------------+--------------------+\n",
      "|                   n|             (n * 2)|\n",
      "+--------------------+--------------------+\n",
      "|  -0.712390662050588|  -1.424781324101176|\n",
      "|   0.753766378659703|   1.507532757319406|\n",
      "|-0.04450307833805...|-0.08900615667610691|\n",
      "| 0.45181233874578974|  0.9036246774915795|\n",
      "|  1.3451017084510097|  2.6902034169020195|\n",
      "|  0.5323378882945463|  1.0646757765890926|\n",
      "|  1.3501878997225267|  2.7003757994450535|\n",
      "|  0.8612113741693206|  1.7224227483386412|\n",
      "|  1.4786857374358966|   2.957371474871793|\n",
      "| -1.0453771305385342| -2.0907542610770684|\n",
      "| -0.7889890249515489| -1.5779780499030978|\n",
      "|  -1.261605945319069|  -2.523211890638138|\n",
      "|  0.5628467852810314|  1.1256935705620628|\n",
      "|-0.24332625188556253|-0.48665250377112507|\n",
      "|  0.9137407048596775|   1.827481409719355|\n",
      "| 0.31735092273633597|  0.6347018454726719|\n",
      "| 0.12730328020698067| 0.25460656041396135|\n",
      "|  2.1503829673811126|   4.300765934762225|\n",
      "|  0.6062886568962988|  1.2125773137925977|\n",
      "|-0.02677164998644...|-0.05354329997288145|\n",
      "+--------------------+--------------------+\n",
      "\n"
     ]
    }
   ],
   "source": [
    "df.select(df.n, df.n * 2).show()"
   ]
  },
  {
   "cell_type": "markdown",
   "id": "908aa133-8b1b-42b8-98de-c21adb435f18",
   "metadata": {},
   "source": [
    "    5. Add a new column named `n2` that is the `n` value multiplied by -1. Show\n",
    "       the first 4 rows of your dataframe. You should see the original `n` value\n",
    "       as well as `n2`."
   ]
  },
  {
   "cell_type": "code",
   "execution_count": 45,
   "id": "035f2c29-9253-459e-9dca-49e31d9d6bc5",
   "metadata": {},
   "outputs": [
    {
     "name": "stdout",
     "output_type": "stream",
     "text": [
      "+--------------------+--------------------+\n",
      "|                   n|                  n2|\n",
      "+--------------------+--------------------+\n",
      "|  -0.712390662050588|   0.712390662050588|\n",
      "|   0.753766378659703|  -0.753766378659703|\n",
      "|-0.04450307833805...|0.044503078338053455|\n",
      "| 0.45181233874578974|-0.45181233874578974|\n",
      "+--------------------+--------------------+\n",
      "only showing top 4 rows\n",
      "\n"
     ]
    }
   ],
   "source": [
    "df.select(df.n,(df.n * -1).alias('n2')).show(4)"
   ]
  },
  {
   "cell_type": "markdown",
   "id": "7525c4ad-6a43-4411-8e99-b49b789bb799",
   "metadata": {},
   "source": [
    "    6. Add a new column named `n3` that is the n value squared. Show the first 5\n",
    "       rows of your dataframe. You should see both `n`, `n2`, and `n3`."
   ]
  },
  {
   "cell_type": "code",
   "execution_count": 46,
   "id": "734a74f4-57e1-4f7e-9b29-f5455b4665ba",
   "metadata": {},
   "outputs": [
    {
     "name": "stdout",
     "output_type": "stream",
     "text": [
      "+--------------------+--------------------+--------------------+\n",
      "|                   n|                  n2|                  n3|\n",
      "+--------------------+--------------------+--------------------+\n",
      "|  -0.712390662050588|   0.712390662050588|   0.507500455376875|\n",
      "|   0.753766378659703|  -0.753766378659703|  0.5681637535977627|\n",
      "|-0.04450307833805...|0.044503078338053455|0.001980523981562...|\n",
      "| 0.45181233874578974|-0.45181233874578974| 0.20413438944294027|\n",
      "|  1.3451017084510097| -1.3451017084510097|  1.8092986060778251|\n",
      "+--------------------+--------------------+--------------------+\n",
      "only showing top 5 rows\n",
      "\n"
     ]
    }
   ],
   "source": [
    "df.select(df.n,(df.n * -1).alias('n2'),(df.n ** 2).alias('n3')).show(5)"
   ]
  },
  {
   "cell_type": "markdown",
   "id": "31e93956-2f8f-48a7-bdc5-1d62fb97c968",
   "metadata": {},
   "source": [
    "    7. What happens when you run the code below?\n",
    "\n",
    "        ```python\n",
    "        df.group + df.abool\n",
    "        ```"
   ]
  },
  {
   "cell_type": "code",
   "execution_count": 47,
   "id": "359e13a6-cfa3-4ab6-8b85-b94c591f0c27",
   "metadata": {},
   "outputs": [
    {
     "data": {
      "text/plain": [
       "Column<'(group + abool)'>"
      ]
     },
     "execution_count": 47,
     "metadata": {},
     "output_type": "execute_result"
    }
   ],
   "source": [
    "df.group + df.abool"
   ]
  },
  {
   "cell_type": "markdown",
   "id": "3701f143-833b-4129-a5ac-53208cf49fe6",
   "metadata": {},
   "source": [
    "- you get a spark column object of group + abool"
   ]
  },
  {
   "cell_type": "markdown",
   "id": "a3638522-c36b-4b71-ba6c-1670cc9b7d23",
   "metadata": {},
   "source": [
    "    8. What happens when you run the code below? What is the difference between\n",
    "       this and the previous code sample?\n",
    "\n",
    "        ```python\n",
    "        df.select(df.group + df.abool)\n",
    "        ```"
   ]
  },
  {
   "cell_type": "code",
   "execution_count": 55,
   "id": "a386363f-2d35-4061-b13f-5995960a8b4c",
   "metadata": {},
   "outputs": [],
   "source": [
    "# df.select(df.group + df.abool)"
   ]
  },
  {
   "cell_type": "markdown",
   "id": "7920866a-f80f-40fe-958b-8c846c3cc604",
   "metadata": {},
   "source": [
    "- You get an error because there are two different data types."
   ]
  },
  {
   "cell_type": "markdown",
   "id": "ccb29f6e-cd78-4712-a981-2fa7a10ed6ea",
   "metadata": {},
   "source": [
    "    9. Try adding various other columns together. What are the results of\n",
    "       combining the different data types?"
   ]
  },
  {
   "cell_type": "markdown",
   "id": "10548b43-fa8b-420f-9c45-135a278e916a",
   "metadata": {},
   "source": [
    "```df.select(df.n + df.abool)```\n",
    "\n",
    "- Gives the same error as above. It can't reconcile the different types\n",
    "\n",
    "```df.select(df.n + df.group)```\n",
    "\n",
    "- This returns and object that says\n",
    "\n",
    "```DataFrame[(n + group): double]``` \n",
    "\n",
    "- which I'm assuming is a dataframe with a column n + group that has values of type double\n",
    "\n",
    "```df.select(df.n + df.group).show(5)```\n",
    "\n",
    "- side note the above code returns a df of nulls"
   ]
  },
  {
   "cell_type": "markdown",
   "id": "965cc7c8-3007-4b94-8243-df9e8e3c64a3",
   "metadata": {
    "tags": []
   },
   "source": [
    "## 3. Type casting"
   ]
  },
  {
   "cell_type": "markdown",
   "id": "e234af5c-64c4-4931-a9be-3ca0989f70c1",
   "metadata": {},
   "source": [
    "    1. Use the starter code above to re-create a spark dataframe."
   ]
  },
  {
   "cell_type": "code",
   "execution_count": 58,
   "id": "dc85920f-2c09-4b1f-9f3d-d573b2228c8d",
   "metadata": {},
   "outputs": [],
   "source": [
    "df = spark.createDataFrame(pandas_dataframe)"
   ]
  },
  {
   "cell_type": "markdown",
   "id": "d960c055-23c0-4e8c-95c7-a62e2ab4439f",
   "metadata": {},
   "source": [
    "    2. Use `.printSchema` to view the datatypes in your dataframe."
   ]
  },
  {
   "cell_type": "code",
   "execution_count": 63,
   "id": "6920dfe7-ff35-4dc7-bfe8-0b27d841b7b1",
   "metadata": {},
   "outputs": [
    {
     "data": {
      "text/plain": [
       "<bound method DataFrame.printSchema of DataFrame[n: double, group: string, abool: boolean]>"
      ]
     },
     "execution_count": 63,
     "metadata": {},
     "output_type": "execute_result"
    }
   ],
   "source": [
    "df.printSchema"
   ]
  },
  {
   "cell_type": "markdown",
   "id": "72398bed-f24f-4cde-b176-379eb3ee0db8",
   "metadata": {},
   "source": [
    "    3. Use `.dtypes` to view the datatypes in your dataframe."
   ]
  },
  {
   "cell_type": "code",
   "execution_count": 62,
   "id": "cbc084b3-b580-4810-87ec-c443f0bb6734",
   "metadata": {},
   "outputs": [
    {
     "data": {
      "text/plain": [
       "[('n', 'double'), ('group', 'string'), ('abool', 'boolean')]"
      ]
     },
     "execution_count": 62,
     "metadata": {},
     "output_type": "execute_result"
    }
   ],
   "source": [
    "df.dtypes"
   ]
  },
  {
   "cell_type": "markdown",
   "id": "88200670-07d0-427d-be10-a6a30d6c15c0",
   "metadata": {},
   "source": [
    "    4. What is the difference between the two code samples below?\n",
    "\n",
    "        ```python\n",
    "        df.abool.cast('int')\n",
    "        ```\n",
    "\n",
    "        ```python\n",
    "        df.select(df.abool.cast('int')).show()\n",
    "        ```\n",
    "\n",
    " "
   ]
  },
  {
   "cell_type": "markdown",
   "id": "b432a9a6-f4a9-45b3-b4a1-6536ff7eca61",
   "metadata": {},
   "source": [
    "```df.abool.cast('int')```\n",
    "\n",
    "- Creates a column object\n",
    "\n",
    "```df.select(df.abool.cast('int')).show()```\n",
    "\n",
    "- takes in the column and displays a df with bools as ints"
   ]
  },
  {
   "cell_type": "markdown",
   "id": "3cde9c05-1419-4b0a-865d-229f58508efc",
   "metadata": {},
   "source": [
    "    5. Use `.select` and `.cast` to convert the `abool` column to an integer\n",
    "       type. View the results."
   ]
  },
  {
   "cell_type": "code",
   "execution_count": 68,
   "id": "b0cdb832-9b39-4a50-aeae-6d8afb9a388f",
   "metadata": {},
   "outputs": [
    {
     "name": "stdout",
     "output_type": "stream",
     "text": [
      "+-----+\n",
      "|abool|\n",
      "+-----+\n",
      "|    0|\n",
      "|    0|\n",
      "|    0|\n",
      "|    0|\n",
      "|    0|\n",
      "|    0|\n",
      "|    0|\n",
      "|    0|\n",
      "|    1|\n",
      "|    1|\n",
      "|    0|\n",
      "|    0|\n",
      "|    1|\n",
      "|    1|\n",
      "|    0|\n",
      "|    0|\n",
      "|    0|\n",
      "|    1|\n",
      "|    0|\n",
      "|    1|\n",
      "+-----+\n",
      "\n"
     ]
    }
   ],
   "source": [
    "df.select(df.abool.cast('int')).show()"
   ]
  },
  {
   "cell_type": "markdown",
   "id": "b6920bde-aeba-4677-a230-003660fdd03a",
   "metadata": {},
   "source": [
    "    6. Convert the `group` column to a integer data type and view the results.\n",
    "       What happens?"
   ]
  },
  {
   "cell_type": "markdown",
   "id": "74a0c500-d4d8-4041-8a23-195b64c51e9e",
   "metadata": {},
   "source": [
    "```df.select(df.group.cast('int')).show()```\n",
    "\n",
    "- returns a dataframe of null"
   ]
  },
  {
   "cell_type": "markdown",
   "id": "51a776ac-506e-4f0c-ab16-5501e9d38c79",
   "metadata": {},
   "source": [
    "    7. Convert the `n` column to a integer data type and view the results. What\n",
    "       happens?"
   ]
  },
  {
   "cell_type": "markdown",
   "id": "c1411299-390b-4679-9c65-ffbc2f6c3131",
   "metadata": {},
   "source": [
    "```df.select(df.n,df.n.cast('int')).show()```\n",
    "\n",
    "- Rounds down to the nearest whole number"
   ]
  },
  {
   "cell_type": "markdown",
   "id": "063a9856-03fe-47b7-b2d0-60abb2230522",
   "metadata": {},
   "source": [
    "    8. Convert the `abool` column to a string data type and view the results.\n",
    "       What happens?"
   ]
  },
  {
   "cell_type": "markdown",
   "id": "73e121dd-a2e8-4180-b44a-49fb6140b81d",
   "metadata": {},
   "source": [
    "```df.select(df.abool, df.abool.cast('string')).show()```\n",
    " \n",
    "- returns a dataframe where the boolean words are stings of the same name"
   ]
  },
  {
   "cell_type": "markdown",
   "id": "23fda63f-ba0c-43f4-a0ce-9a4c5fbcb80a",
   "metadata": {
    "tags": []
   },
   "source": [
    "## 4. Built-in Functions"
   ]
  },
  {
   "cell_type": "markdown",
   "id": "28441f16-862c-4048-a21e-b0539d23bb77",
   "metadata": {},
   "source": [
    "    1. Use the starter code above to re-create a spark dataframe."
   ]
  },
  {
   "cell_type": "code",
   "execution_count": 74,
   "id": "c73ceaf8-abb8-4505-a4d8-c0dfd719a1a5",
   "metadata": {},
   "outputs": [],
   "source": [
    "df = spark.createDataFrame(pandas_dataframe)"
   ]
  },
  {
   "cell_type": "markdown",
   "id": "05e752f7-306f-40bf-9204-b3eeba21981b",
   "metadata": {},
   "source": [
    "    2. Import the necessary functions from `pyspark.sql.functions`"
   ]
  },
  {
   "cell_type": "code",
   "execution_count": 75,
   "id": "a4917bd4-28cd-4e9c-be79-76a7f23a7373",
   "metadata": {},
   "outputs": [],
   "source": [
    "from pyspark.sql.functions import col, expr, concat, sum, avg, min, max, count, mean"
   ]
  },
  {
   "cell_type": "markdown",
   "id": "4f41a554-22b1-4966-939c-3ad49d68bb24",
   "metadata": {},
   "source": [
    "    3. Find the highest `n` value."
   ]
  },
  {
   "cell_type": "code",
   "execution_count": 80,
   "id": "d4f28368-7dcf-4d92-b389-0c303892277f",
   "metadata": {},
   "outputs": [
    {
     "name": "stdout",
     "output_type": "stream",
     "text": [
      "+------------------+\n",
      "|            max(n)|\n",
      "+------------------+\n",
      "|2.1503829673811126|\n",
      "+------------------+\n",
      "\n"
     ]
    }
   ],
   "source": [
    "df.select(max(df.n)).show()"
   ]
  },
  {
   "cell_type": "markdown",
   "id": "7a6f612a-480b-49af-b8aa-083e87447828",
   "metadata": {},
   "source": [
    "    4. Find the lowest `n` value."
   ]
  },
  {
   "cell_type": "code",
   "execution_count": 81,
   "id": "8f168f3f-37ca-4dad-939a-252f1617a435",
   "metadata": {},
   "outputs": [
    {
     "name": "stdout",
     "output_type": "stream",
     "text": [
      "+------------------+\n",
      "|            min(n)|\n",
      "+------------------+\n",
      "|-1.261605945319069|\n",
      "+------------------+\n",
      "\n"
     ]
    }
   ],
   "source": [
    "df.select(min(df.n)).show()"
   ]
  },
  {
   "cell_type": "markdown",
   "id": "1f2dba67-790b-499e-b604-0b12ca00c41b",
   "metadata": {},
   "source": [
    "    5. Find the average `n` value."
   ]
  },
  {
   "cell_type": "code",
   "execution_count": 82,
   "id": "8d4f269e-558c-454e-a22b-676b341e4dbb",
   "metadata": {},
   "outputs": [
    {
     "name": "stdout",
     "output_type": "stream",
     "text": [
      "+------------------+\n",
      "|            avg(n)|\n",
      "+------------------+\n",
      "|0.3664026449885217|\n",
      "+------------------+\n",
      "\n"
     ]
    }
   ],
   "source": [
    "df.select(avg(df.n)).show()"
   ]
  },
  {
   "cell_type": "markdown",
   "id": "4fc60cb3-1f8a-47b3-bb8c-e6bc37047871",
   "metadata": {},
   "source": [
    "    6. Use `concat` to change the `group` column to say, e.g. \"Group: x\" or\n",
    "       \"Group: y\""
   ]
  },
  {
   "cell_type": "code",
   "execution_count": 87,
   "id": "9cd51bc5-255e-4367-881f-df411d23af3e",
   "metadata": {},
   "outputs": [
    {
     "name": "stdout",
     "output_type": "stream",
     "text": [
      "+--------+\n",
      "|   Group|\n",
      "+--------+\n",
      "|Group: z|\n",
      "|Group: x|\n",
      "|Group: z|\n",
      "|Group: y|\n",
      "|Group: z|\n",
      "|Group: y|\n",
      "|Group: z|\n",
      "|Group: x|\n",
      "|Group: z|\n",
      "|Group: y|\n",
      "|Group: x|\n",
      "|Group: y|\n",
      "|Group: y|\n",
      "|Group: y|\n",
      "|Group: y|\n",
      "|Group: x|\n",
      "|Group: z|\n",
      "|Group: y|\n",
      "|Group: x|\n",
      "|Group: x|\n",
      "+--------+\n",
      "\n"
     ]
    }
   ],
   "source": [
    "df.select(concat(lit('Group: '), df.group).alias('Group')).show()"
   ]
  },
  {
   "cell_type": "markdown",
   "id": "065a3931-af9a-4c7c-a87a-ebebcf2d8cf6",
   "metadata": {},
   "source": [
    "    7. Use `concat` to combine the `n` and `group` columns to produce results\n",
    "       that look like this: \"x: -1.432\" or \"z: 2.352\""
   ]
  },
  {
   "cell_type": "code",
   "execution_count": 91,
   "id": "73d2ba89-aa8f-4e26-8d99-828eb2950be6",
   "metadata": {},
   "outputs": [
    {
     "name": "stdout",
     "output_type": "stream",
     "text": [
      "+--------------------+\n",
      "|         n per group|\n",
      "+--------------------+\n",
      "|z: -0.71239066205...|\n",
      "|x: 0.753766378659703|\n",
      "|z: -0.04450307833...|\n",
      "|y: 0.451812338745...|\n",
      "|z: 1.345101708451...|\n",
      "|y: 0.532337888294...|\n",
      "|z: 1.350187899722...|\n",
      "|x: 0.861211374169...|\n",
      "|z: 1.478685737435...|\n",
      "|y: -1.04537713053...|\n",
      "|x: -0.78898902495...|\n",
      "|y: -1.26160594531...|\n",
      "|y: 0.562846785281...|\n",
      "|y: -0.24332625188...|\n",
      "|y: 0.913740704859...|\n",
      "|x: 0.317350922736...|\n",
      "|z: 0.127303280206...|\n",
      "|y: 2.150382967381...|\n",
      "|x: 0.606288656896...|\n",
      "|x: -0.02677164998...|\n",
      "+--------------------+\n",
      "\n"
     ]
    }
   ],
   "source": [
    "df.select(concat(df.group, lit(': '), df.n).alias('n per group')).show()"
   ]
  },
  {
   "cell_type": "markdown",
   "id": "cae49858-a1ef-47ee-ae11-1fb892db6b71",
   "metadata": {
    "tags": []
   },
   "source": [
    "## 5. When / Otherwise"
   ]
  },
  {
   "cell_type": "markdown",
   "id": "36fd7b09-1f07-40fe-82dc-464997c4ad15",
   "metadata": {},
   "source": [
    "    1. Use the starter code above to re-create a spark dataframe."
   ]
  },
  {
   "cell_type": "code",
   "execution_count": 92,
   "id": "cece76da-9df4-4103-ad0c-0d8b5c11c4c9",
   "metadata": {},
   "outputs": [],
   "source": [
    "df = spark.createDataFrame(pandas_dataframe)"
   ]
  },
  {
   "cell_type": "markdown",
   "id": "31b194c8-437b-4796-884b-e5eb34240ae5",
   "metadata": {},
   "source": [
    "    2. Use `when` and `.otherwise` to create a column that contains the text \"It\n",
    "       is true\" when `abool` is true and \"It is false\"\" when `abool` is false."
   ]
  },
  {
   "cell_type": "code",
   "execution_count": 97,
   "id": "1987e53c-b4df-4164-b17e-053f5a003918",
   "metadata": {},
   "outputs": [
    {
     "name": "stdout",
     "output_type": "stream",
     "text": [
      "+-----+-----------+-------------+\n",
      "|abool|   abool is|abool is also|\n",
      "+-----+-----------+-------------+\n",
      "|false|It is false|  It is False|\n",
      "|false|It is false|  It is False|\n",
      "|false|It is false|  It is False|\n",
      "|false|It is false|  It is False|\n",
      "|false|It is false|  It is False|\n",
      "|false|It is false|  It is False|\n",
      "|false|It is false|  It is False|\n",
      "|false|It is false|  It is False|\n",
      "| true| It is true|   It is True|\n",
      "| true| It is true|   It is True|\n",
      "|false|It is false|  It is False|\n",
      "|false|It is false|  It is False|\n",
      "| true| It is true|   It is True|\n",
      "| true| It is true|   It is True|\n",
      "|false|It is false|  It is False|\n",
      "|false|It is false|  It is False|\n",
      "|false|It is false|  It is False|\n",
      "| true| It is true|   It is True|\n",
      "|false|It is false|  It is False|\n",
      "| true| It is true|   It is True|\n",
      "+-----+-----------+-------------+\n",
      "\n"
     ]
    }
   ],
   "source": [
    "df.select(df.abool,\n",
    "          concat(lit('It is '), df.abool).alias('abool is'), \n",
    "          when(df.abool == True, 'It is True')\n",
    "          .otherwise('It is False').alias('abool is also')\n",
    "         ).show()"
   ]
  },
  {
   "cell_type": "markdown",
   "id": "b422902f-0f7e-48d8-b149-87f986927e58",
   "metadata": {},
   "source": [
    "    3. Create a column that contains 0 if n is less than 0, otherwise, the\n",
    "       original n value."
   ]
  },
  {
   "cell_type": "code",
   "execution_count": 98,
   "id": "a2d24f7b-4518-40ea-b517-7ce3ad4609ac",
   "metadata": {},
   "outputs": [
    {
     "name": "stdout",
     "output_type": "stream",
     "text": [
      "+--------------------+-----------------------------------+\n",
      "|                   n|CASE WHEN (n < 0) THEN 0 ELSE n END|\n",
      "+--------------------+-----------------------------------+\n",
      "|  -0.712390662050588|                                0.0|\n",
      "|   0.753766378659703|                  0.753766378659703|\n",
      "|-0.04450307833805...|                                0.0|\n",
      "| 0.45181233874578974|                0.45181233874578974|\n",
      "|  1.3451017084510097|                 1.3451017084510097|\n",
      "|  0.5323378882945463|                 0.5323378882945463|\n",
      "|  1.3501878997225267|                 1.3501878997225267|\n",
      "|  0.8612113741693206|                 0.8612113741693206|\n",
      "|  1.4786857374358966|                 1.4786857374358966|\n",
      "| -1.0453771305385342|                                0.0|\n",
      "| -0.7889890249515489|                                0.0|\n",
      "|  -1.261605945319069|                                0.0|\n",
      "|  0.5628467852810314|                 0.5628467852810314|\n",
      "|-0.24332625188556253|                                0.0|\n",
      "|  0.9137407048596775|                 0.9137407048596775|\n",
      "| 0.31735092273633597|                0.31735092273633597|\n",
      "| 0.12730328020698067|                0.12730328020698067|\n",
      "|  2.1503829673811126|                 2.1503829673811126|\n",
      "|  0.6062886568962988|                 0.6062886568962988|\n",
      "|-0.02677164998644...|                                0.0|\n",
      "+--------------------+-----------------------------------+\n",
      "\n"
     ]
    }
   ],
   "source": [
    "df.select(df.n, when(df.n < 0, 0).otherwise(df.n)).show()"
   ]
  },
  {
   "cell_type": "markdown",
   "id": "d00ac49d-ebef-4208-a181-80e6b7f8a5f7",
   "metadata": {
    "tags": []
   },
   "source": [
    "## 6. Filter / Where"
   ]
  },
  {
   "cell_type": "markdown",
   "id": "2dba3b55-5e59-48b2-b395-9a4042edaed7",
   "metadata": {},
   "source": [
    "    1. Use the starter code above to re-create a spark dataframe."
   ]
  },
  {
   "cell_type": "code",
   "execution_count": 99,
   "id": "4a030e2d-e911-4f00-91bd-3a6e348fed2a",
   "metadata": {},
   "outputs": [],
   "source": [
    "df = spark.createDataFrame(pandas_dataframe)"
   ]
  },
  {
   "cell_type": "markdown",
   "id": "866a2663-90cd-4c31-a31a-c058783e2a32",
   "metadata": {},
   "source": [
    "    2. Use `.filter` or `.where` to select just the rows where the group is `y`\n",
    "       and view the results."
   ]
  },
  {
   "cell_type": "code",
   "execution_count": 101,
   "id": "cd7f3242-ffa4-470a-9c95-a259f346fdb9",
   "metadata": {},
   "outputs": [
    {
     "name": "stdout",
     "output_type": "stream",
     "text": [
      "+--------------------+-----+-----+\n",
      "|                   n|group|abool|\n",
      "+--------------------+-----+-----+\n",
      "| 0.45181233874578974|    y|false|\n",
      "|  0.5323378882945463|    y|false|\n",
      "| -1.0453771305385342|    y| true|\n",
      "|  -1.261605945319069|    y|false|\n",
      "|  0.5628467852810314|    y| true|\n",
      "|-0.24332625188556253|    y| true|\n",
      "|  0.9137407048596775|    y|false|\n",
      "|  2.1503829673811126|    y| true|\n",
      "+--------------------+-----+-----+\n",
      "\n"
     ]
    }
   ],
   "source": [
    "df.filter(df.group == 'y').show()"
   ]
  },
  {
   "cell_type": "markdown",
   "id": "f84045b6-9308-4684-84b0-2fb5c22eac19",
   "metadata": {},
   "source": [
    "    3. Select just the columns where the `abool` column is false and view the\n",
    "       results."
   ]
  },
  {
   "cell_type": "code",
   "execution_count": 107,
   "id": "a3336252-a16f-45ff-8602-343ef13bbaf9",
   "metadata": {},
   "outputs": [
    {
     "name": "stdout",
     "output_type": "stream",
     "text": [
      "+--------------------+-----+-----+\n",
      "|                   n|group|abool|\n",
      "+--------------------+-----+-----+\n",
      "|  -0.712390662050588|    z|false|\n",
      "|   0.753766378659703|    x|false|\n",
      "|-0.04450307833805...|    z|false|\n",
      "| 0.45181233874578974|    y|false|\n",
      "|  1.3451017084510097|    z|false|\n",
      "|  0.5323378882945463|    y|false|\n",
      "|  1.3501878997225267|    z|false|\n",
      "|  0.8612113741693206|    x|false|\n",
      "| -0.7889890249515489|    x|false|\n",
      "|  -1.261605945319069|    y|false|\n",
      "|  0.9137407048596775|    y|false|\n",
      "| 0.31735092273633597|    x|false|\n",
      "| 0.12730328020698067|    z|false|\n",
      "|  0.6062886568962988|    x|false|\n",
      "+--------------------+-----+-----+\n",
      "\n"
     ]
    }
   ],
   "source": [
    "df.where(df.abool == False).show()"
   ]
  },
  {
   "cell_type": "markdown",
   "id": "6beb4f20-83d6-47c6-bede-a7f4a7eb0457",
   "metadata": {},
   "source": [
    "    4. Find the columns where the `group` column is *not* `y`."
   ]
  },
  {
   "cell_type": "code",
   "execution_count": 108,
   "id": "dd19677f-b57e-4f44-98d0-65398917564e",
   "metadata": {},
   "outputs": [
    {
     "name": "stdout",
     "output_type": "stream",
     "text": [
      "+--------------------+-----+-----+\n",
      "|                   n|group|abool|\n",
      "+--------------------+-----+-----+\n",
      "|  -0.712390662050588|    z|false|\n",
      "|   0.753766378659703|    x|false|\n",
      "|-0.04450307833805...|    z|false|\n",
      "|  1.3451017084510097|    z|false|\n",
      "|  1.3501878997225267|    z|false|\n",
      "|  0.8612113741693206|    x|false|\n",
      "|  1.4786857374358966|    z| true|\n",
      "| -0.7889890249515489|    x|false|\n",
      "| 0.31735092273633597|    x|false|\n",
      "| 0.12730328020698067|    z|false|\n",
      "|  0.6062886568962988|    x|false|\n",
      "|-0.02677164998644...|    x| true|\n",
      "+--------------------+-----+-----+\n",
      "\n"
     ]
    }
   ],
   "source": [
    "df.where(df.group != 'y').show()"
   ]
  },
  {
   "cell_type": "markdown",
   "id": "6aa9cbaf-60a8-4175-b794-e3e32ed1470a",
   "metadata": {},
   "source": [
    "    5. Find the columns where `n` is positive."
   ]
  },
  {
   "cell_type": "code",
   "execution_count": 109,
   "id": "ccbbdfb9-4e35-4d8f-9553-33027eea8856",
   "metadata": {},
   "outputs": [
    {
     "name": "stdout",
     "output_type": "stream",
     "text": [
      "+-------------------+-----+-----+\n",
      "|                  n|group|abool|\n",
      "+-------------------+-----+-----+\n",
      "|  0.753766378659703|    x|false|\n",
      "|0.45181233874578974|    y|false|\n",
      "| 1.3451017084510097|    z|false|\n",
      "| 0.5323378882945463|    y|false|\n",
      "| 1.3501878997225267|    z|false|\n",
      "| 0.8612113741693206|    x|false|\n",
      "| 1.4786857374358966|    z| true|\n",
      "| 0.5628467852810314|    y| true|\n",
      "| 0.9137407048596775|    y|false|\n",
      "|0.31735092273633597|    x|false|\n",
      "|0.12730328020698067|    z|false|\n",
      "| 2.1503829673811126|    y| true|\n",
      "| 0.6062886568962988|    x|false|\n",
      "+-------------------+-----+-----+\n",
      "\n"
     ]
    }
   ],
   "source": [
    "df.where(df.n > 0).show()"
   ]
  },
  {
   "cell_type": "markdown",
   "id": "8f76f3bb-d28d-45ff-a362-d15d9dd645b3",
   "metadata": {},
   "source": [
    "    6. Find the columns where `abool` is true and the `group` column is `z`."
   ]
  },
  {
   "cell_type": "code",
   "execution_count": 111,
   "id": "d791ae4e-27f0-40c0-abf2-c8f1d7f29b1f",
   "metadata": {},
   "outputs": [
    {
     "name": "stdout",
     "output_type": "stream",
     "text": [
      "+------------------+-----+-----+\n",
      "|                 n|group|abool|\n",
      "+------------------+-----+-----+\n",
      "|1.4786857374358966|    z| true|\n",
      "+------------------+-----+-----+\n",
      "\n"
     ]
    }
   ],
   "source": [
    "df.where(df.abool == True).filter(df.group == 'z').show()"
   ]
  },
  {
   "cell_type": "markdown",
   "id": "36fb5008-3748-4414-9752-100ebb34b5d5",
   "metadata": {},
   "source": [
    "    7. Find the columns where `abool` is true or the `group` column is `z`."
   ]
  },
  {
   "cell_type": "code",
   "execution_count": 113,
   "id": "a6a3a4d9-4226-4e88-ba84-9daed979cb9f",
   "metadata": {},
   "outputs": [
    {
     "name": "stdout",
     "output_type": "stream",
     "text": [
      "+--------------------+-----+-----+\n",
      "|                   n|group|abool|\n",
      "+--------------------+-----+-----+\n",
      "|  -0.712390662050588|    z|false|\n",
      "|-0.04450307833805...|    z|false|\n",
      "|  1.3451017084510097|    z|false|\n",
      "|  1.3501878997225267|    z|false|\n",
      "|  1.4786857374358966|    z| true|\n",
      "| -1.0453771305385342|    y| true|\n",
      "|  0.5628467852810314|    y| true|\n",
      "|-0.24332625188556253|    y| true|\n",
      "| 0.12730328020698067|    z|false|\n",
      "|  2.1503829673811126|    y| true|\n",
      "|-0.02677164998644...|    x| true|\n",
      "+--------------------+-----+-----+\n",
      "\n"
     ]
    }
   ],
   "source": [
    "df.where((df.abool == True) | (df.group == 'z')).show()"
   ]
  },
  {
   "cell_type": "markdown",
   "id": "55e2442c-c39b-4a9d-8e63-b729206dbd44",
   "metadata": {},
   "source": [
    "    8. Find the columns where `abool` is false and `n` is less than 1"
   ]
  },
  {
   "cell_type": "code",
   "execution_count": 114,
   "id": "85b1166a-5f29-46a1-acfe-3ad22749241d",
   "metadata": {},
   "outputs": [
    {
     "name": "stdout",
     "output_type": "stream",
     "text": [
      "+--------------------+-----+-----+\n",
      "|                   n|group|abool|\n",
      "+--------------------+-----+-----+\n",
      "|  -0.712390662050588|    z|false|\n",
      "|   0.753766378659703|    x|false|\n",
      "|-0.04450307833805...|    z|false|\n",
      "| 0.45181233874578974|    y|false|\n",
      "|  0.5323378882945463|    y|false|\n",
      "|  0.8612113741693206|    x|false|\n",
      "| -0.7889890249515489|    x|false|\n",
      "|  -1.261605945319069|    y|false|\n",
      "|  0.9137407048596775|    y|false|\n",
      "| 0.31735092273633597|    x|false|\n",
      "| 0.12730328020698067|    z|false|\n",
      "|  0.6062886568962988|    x|false|\n",
      "+--------------------+-----+-----+\n",
      "\n"
     ]
    }
   ],
   "source": [
    "df.where((df.abool == False) & (df.n < 1)).show()"
   ]
  },
  {
   "cell_type": "markdown",
   "id": "34c594ae-125d-4892-9c66-1a37519bd537",
   "metadata": {},
   "source": [
    "    9. Find the columns where `abool` is false or `n` is less than 1"
   ]
  },
  {
   "cell_type": "code",
   "execution_count": 115,
   "id": "e9635718-614c-4fc3-9fb4-2ac270bd858d",
   "metadata": {},
   "outputs": [
    {
     "name": "stdout",
     "output_type": "stream",
     "text": [
      "+--------------------+-----+-----+\n",
      "|                   n|group|abool|\n",
      "+--------------------+-----+-----+\n",
      "|  -0.712390662050588|    z|false|\n",
      "|   0.753766378659703|    x|false|\n",
      "|-0.04450307833805...|    z|false|\n",
      "| 0.45181233874578974|    y|false|\n",
      "|  1.3451017084510097|    z|false|\n",
      "|  0.5323378882945463|    y|false|\n",
      "|  1.3501878997225267|    z|false|\n",
      "|  0.8612113741693206|    x|false|\n",
      "| -1.0453771305385342|    y| true|\n",
      "| -0.7889890249515489|    x|false|\n",
      "|  -1.261605945319069|    y|false|\n",
      "|  0.5628467852810314|    y| true|\n",
      "|-0.24332625188556253|    y| true|\n",
      "|  0.9137407048596775|    y|false|\n",
      "| 0.31735092273633597|    x|false|\n",
      "| 0.12730328020698067|    z|false|\n",
      "|  0.6062886568962988|    x|false|\n",
      "|-0.02677164998644...|    x| true|\n",
      "+--------------------+-----+-----+\n",
      "\n"
     ]
    }
   ],
   "source": [
    "# Note says columns I'm assuming it means rows\n",
    "df.where((df.abool == False) | (df.n < 1)).show()"
   ]
  },
  {
   "cell_type": "markdown",
   "id": "85573129-01cb-4f0e-a557-7b089c7dd034",
   "metadata": {
    "tags": []
   },
   "source": [
    "## 7. Sorting"
   ]
  },
  {
   "cell_type": "markdown",
   "id": "d7a21e59-3a1e-4dea-a6be-1ff177023d42",
   "metadata": {},
   "source": [
    "    1. Use the starter code above to re-create a spark dataframe."
   ]
  },
  {
   "cell_type": "code",
   "execution_count": 116,
   "id": "1ebe01a7-275b-4abc-8610-af1a35f90928",
   "metadata": {},
   "outputs": [],
   "source": [
    "df = spark.createDataFrame(pandas_dataframe)"
   ]
  },
  {
   "cell_type": "markdown",
   "id": "eb697cbe-25c2-44b2-876a-2bc3d3e45475",
   "metadata": {},
   "source": [
    "    2. Sort by the `n` value."
   ]
  },
  {
   "cell_type": "code",
   "execution_count": 117,
   "id": "3a03ccf1-dcd6-4e50-8419-d632e33e61f7",
   "metadata": {},
   "outputs": [
    {
     "name": "stdout",
     "output_type": "stream",
     "text": [
      "+--------------------+-----+-----+\n",
      "|                   n|group|abool|\n",
      "+--------------------+-----+-----+\n",
      "|  -1.261605945319069|    y|false|\n",
      "| -1.0453771305385342|    y| true|\n",
      "| -0.7889890249515489|    x|false|\n",
      "|  -0.712390662050588|    z|false|\n",
      "|-0.24332625188556253|    y| true|\n",
      "|-0.04450307833805...|    z|false|\n",
      "|-0.02677164998644...|    x| true|\n",
      "| 0.12730328020698067|    z|false|\n",
      "| 0.31735092273633597|    x|false|\n",
      "| 0.45181233874578974|    y|false|\n",
      "|  0.5323378882945463|    y|false|\n",
      "|  0.5628467852810314|    y| true|\n",
      "|  0.6062886568962988|    x|false|\n",
      "|   0.753766378659703|    x|false|\n",
      "|  0.8612113741693206|    x|false|\n",
      "|  0.9137407048596775|    y|false|\n",
      "|  1.3451017084510097|    z|false|\n",
      "|  1.3501878997225267|    z|false|\n",
      "|  1.4786857374358966|    z| true|\n",
      "|  2.1503829673811126|    y| true|\n",
      "+--------------------+-----+-----+\n",
      "\n"
     ]
    },
    {
     "name": "stderr",
     "output_type": "stream",
     "text": [
      "                                                                                \r"
     ]
    }
   ],
   "source": [
    "df.sort(df.n).show()"
   ]
  },
  {
   "cell_type": "markdown",
   "id": "eac37d07-06a7-47a2-8abc-67dbc84e5333",
   "metadata": {},
   "source": [
    "    3. Sort by the `group` value, both ascending and descending."
   ]
  },
  {
   "cell_type": "code",
   "execution_count": 127,
   "id": "6763274e-3cba-4c21-b96b-5c6e63dc5e42",
   "metadata": {},
   "outputs": [
    {
     "name": "stdout",
     "output_type": "stream",
     "text": [
      "+--------------------+-----+-----+\n",
      "|                   n|group|abool|\n",
      "+--------------------+-----+-----+\n",
      "|   0.753766378659703|    x|false|\n",
      "|  0.8612113741693206|    x|false|\n",
      "| 0.31735092273633597|    x|false|\n",
      "|  0.6062886568962988|    x|false|\n",
      "|-0.02677164998644...|    x| true|\n",
      "| -0.7889890249515489|    x|false|\n",
      "|  0.9137407048596775|    y|false|\n",
      "|  2.1503829673811126|    y| true|\n",
      "|  0.5323378882945463|    y|false|\n",
      "| 0.45181233874578974|    y|false|\n",
      "|-0.24332625188556253|    y| true|\n",
      "| -1.0453771305385342|    y| true|\n",
      "|  0.5628467852810314|    y| true|\n",
      "|  -1.261605945319069|    y|false|\n",
      "|  -0.712390662050588|    z|false|\n",
      "|  1.3501878997225267|    z|false|\n",
      "|  1.3451017084510097|    z|false|\n",
      "|-0.04450307833805...|    z|false|\n",
      "|  1.4786857374358966|    z| true|\n",
      "| 0.12730328020698067|    z|false|\n",
      "+--------------------+-----+-----+\n",
      "\n",
      "+--------------------+-----+-----+\n",
      "|                   n|group|abool|\n",
      "+--------------------+-----+-----+\n",
      "|  1.3501878997225267|    z|false|\n",
      "|  1.4786857374358966|    z| true|\n",
      "|  1.3451017084510097|    z|false|\n",
      "| 0.12730328020698067|    z|false|\n",
      "|-0.04450307833805...|    z|false|\n",
      "|  -0.712390662050588|    z|false|\n",
      "|-0.24332625188556253|    y| true|\n",
      "| 0.45181233874578974|    y|false|\n",
      "|  0.5628467852810314|    y| true|\n",
      "| -1.0453771305385342|    y| true|\n",
      "|  0.9137407048596775|    y|false|\n",
      "|  -1.261605945319069|    y|false|\n",
      "|  0.5323378882945463|    y|false|\n",
      "|  2.1503829673811126|    y| true|\n",
      "| 0.31735092273633597|    x|false|\n",
      "|  0.8612113741693206|    x|false|\n",
      "| -0.7889890249515489|    x|false|\n",
      "|-0.02677164998644...|    x| true|\n",
      "|  0.6062886568962988|    x|false|\n",
      "|   0.753766378659703|    x|false|\n",
      "+--------------------+-----+-----+\n",
      "\n"
     ]
    },
    {
     "data": {
      "text/plain": [
       "(None, None)"
      ]
     },
     "execution_count": 127,
     "metadata": {},
     "output_type": "execute_result"
    }
   ],
   "source": [
    "df.sort(df.group.asc()).show(), df.sort(df.group.desc()).show()"
   ]
  },
  {
   "cell_type": "markdown",
   "id": "bd39efe4-0d1c-4b23-8fb2-8758bf6e85fe",
   "metadata": {},
   "source": [
    "    4. Sort by the group value first, then, within each group, sort by `n`\n",
    "       value."
   ]
  },
  {
   "cell_type": "code",
   "execution_count": 123,
   "id": "4bc705ea-085f-4cf7-8b47-3cf815eb335b",
   "metadata": {},
   "outputs": [
    {
     "name": "stdout",
     "output_type": "stream",
     "text": [
      "+--------------------+-----+-----+\n",
      "|                   n|group|abool|\n",
      "+--------------------+-----+-----+\n",
      "| -0.7889890249515489|    x|false|\n",
      "|-0.02677164998644...|    x| true|\n",
      "| 0.31735092273633597|    x|false|\n",
      "|  0.6062886568962988|    x|false|\n",
      "|   0.753766378659703|    x|false|\n",
      "|  0.8612113741693206|    x|false|\n",
      "|  -1.261605945319069|    y|false|\n",
      "| -1.0453771305385342|    y| true|\n",
      "|-0.24332625188556253|    y| true|\n",
      "| 0.45181233874578974|    y|false|\n",
      "|  0.5323378882945463|    y|false|\n",
      "|  0.5628467852810314|    y| true|\n",
      "|  0.9137407048596775|    y|false|\n",
      "|  2.1503829673811126|    y| true|\n",
      "|  -0.712390662050588|    z|false|\n",
      "|-0.04450307833805...|    z|false|\n",
      "| 0.12730328020698067|    z|false|\n",
      "|  1.3451017084510097|    z|false|\n",
      "|  1.3501878997225267|    z|false|\n",
      "|  1.4786857374358966|    z| true|\n",
      "+--------------------+-----+-----+\n",
      "\n"
     ]
    }
   ],
   "source": [
    "df.sort(df.group, df.n).show()"
   ]
  },
  {
   "cell_type": "markdown",
   "id": "49fbeea4-ba0f-4259-9262-b257d336f827",
   "metadata": {},
   "source": [
    "    5. Sort by `abool`, `group`, and `n`. Does it matter in what order you\n",
    "       specify the columns when sorting?"
   ]
  },
  {
   "cell_type": "code",
   "execution_count": 126,
   "id": "51f094d0-8300-4dee-907b-41f38f95bc82",
   "metadata": {},
   "outputs": [
    {
     "name": "stdout",
     "output_type": "stream",
     "text": [
      "+--------------------+-----+-----+\n",
      "|                   n|group|abool|\n",
      "+--------------------+-----+-----+\n",
      "| -0.7889890249515489|    x|false|\n",
      "| 0.31735092273633597|    x|false|\n",
      "|  0.6062886568962988|    x|false|\n",
      "|   0.753766378659703|    x|false|\n",
      "|  0.8612113741693206|    x|false|\n",
      "|  -1.261605945319069|    y|false|\n",
      "| 0.45181233874578974|    y|false|\n",
      "|  0.5323378882945463|    y|false|\n",
      "|  0.9137407048596775|    y|false|\n",
      "|  -0.712390662050588|    z|false|\n",
      "|-0.04450307833805...|    z|false|\n",
      "| 0.12730328020698067|    z|false|\n",
      "|  1.3451017084510097|    z|false|\n",
      "|  1.3501878997225267|    z|false|\n",
      "|-0.02677164998644...|    x| true|\n",
      "| -1.0453771305385342|    y| true|\n",
      "|-0.24332625188556253|    y| true|\n",
      "|  0.5628467852810314|    y| true|\n",
      "|  2.1503829673811126|    y| true|\n",
      "|  1.4786857374358966|    z| true|\n",
      "+--------------------+-----+-----+\n",
      "\n",
      "+--------------------+-----+-----+\n",
      "|                   n|group|abool|\n",
      "+--------------------+-----+-----+\n",
      "| -0.7889890249515489|    x|false|\n",
      "|-0.02677164998644...|    x| true|\n",
      "| 0.31735092273633597|    x|false|\n",
      "|  0.6062886568962988|    x|false|\n",
      "|   0.753766378659703|    x|false|\n",
      "|  0.8612113741693206|    x|false|\n",
      "|  -1.261605945319069|    y|false|\n",
      "| -1.0453771305385342|    y| true|\n",
      "|-0.24332625188556253|    y| true|\n",
      "| 0.45181233874578974|    y|false|\n",
      "|  0.5323378882945463|    y|false|\n",
      "|  0.5628467852810314|    y| true|\n",
      "|  0.9137407048596775|    y|false|\n",
      "|  2.1503829673811126|    y| true|\n",
      "|  -0.712390662050588|    z|false|\n",
      "|-0.04450307833805...|    z|false|\n",
      "| 0.12730328020698067|    z|false|\n",
      "|  1.3451017084510097|    z|false|\n",
      "|  1.3501878997225267|    z|false|\n",
      "|  1.4786857374358966|    z| true|\n",
      "+--------------------+-----+-----+\n",
      "\n"
     ]
    },
    {
     "data": {
      "text/plain": [
       "(None, None)"
      ]
     },
     "execution_count": 126,
     "metadata": {},
     "output_type": "execute_result"
    }
   ],
   "source": [
    "df.sort(df.abool, df.group, df.n).show(), df.sort(df.group, df.n, df.abool).show()"
   ]
  },
  {
   "cell_type": "markdown",
   "id": "33d7bfd4-72f9-4099-b88c-e7e62c8c4f4d",
   "metadata": {},
   "source": [
    "- Yes it sorts them in the order they are presented"
   ]
  },
  {
   "cell_type": "markdown",
   "id": "b9521d7c-635f-488b-9706-0d9a4fc0eb23",
   "metadata": {
    "tags": []
   },
   "source": [
    "## 8. Aggregating"
   ]
  },
  {
   "cell_type": "markdown",
   "id": "8adea59c-667c-49e9-917a-56da999dbc67",
   "metadata": {},
   "source": [
    "    1. What is the average `n` value for each group in the `group` column?"
   ]
  },
  {
   "cell_type": "code",
   "execution_count": 128,
   "id": "b8e27a0f-ca54-4c2e-9445-6076eb03f9bb",
   "metadata": {},
   "outputs": [
    {
     "name": "stderr",
     "output_type": "stream",
     "text": [
      "[Stage 150:>                                                        (0 + 8) / 8]\r"
     ]
    },
    {
     "name": "stdout",
     "output_type": "stream",
     "text": [
      "+-----+------------------+\n",
      "|group|            avg(n)|\n",
      "+-----+------------------+\n",
      "|    x|0.2871427762539448|\n",
      "|    z| 0.590730814237962|\n",
      "|    y| 0.257601419602374|\n",
      "+-----+------------------+\n",
      "\n"
     ]
    },
    {
     "name": "stderr",
     "output_type": "stream",
     "text": [
      "                                                                                \r"
     ]
    }
   ],
   "source": [
    "df.groupBy(df.group).agg(avg(df.n)).show()"
   ]
  },
  {
   "cell_type": "markdown",
   "id": "bd891014-5dd3-433b-8615-2f85f7207a56",
   "metadata": {},
   "source": [
    "    2. What is the maximum `n` value for each group in the `group` column?"
   ]
  },
  {
   "cell_type": "code",
   "execution_count": 129,
   "id": "3393aa12-96fd-4833-9f09-59d9dbf51873",
   "metadata": {},
   "outputs": [
    {
     "name": "stderr",
     "output_type": "stream",
     "text": [
      "[Stage 153:>                                                        (0 + 8) / 8]\r"
     ]
    },
    {
     "name": "stdout",
     "output_type": "stream",
     "text": [
      "+-----+------------------+\n",
      "|group|            max(n)|\n",
      "+-----+------------------+\n",
      "|    x|0.8612113741693206|\n",
      "|    z|1.4786857374358966|\n",
      "|    y|2.1503829673811126|\n",
      "+-----+------------------+\n",
      "\n"
     ]
    },
    {
     "name": "stderr",
     "output_type": "stream",
     "text": [
      "                                                                                \r"
     ]
    }
   ],
   "source": [
    "df.groupBy(df.group).agg(max(df.n)).show()"
   ]
  },
  {
   "cell_type": "markdown",
   "id": "fbf00c2d-e972-4750-b091-23b976d2aeb1",
   "metadata": {},
   "source": [
    "    3. What is the minimum `n` value by `abool`?"
   ]
  },
  {
   "cell_type": "code",
   "execution_count": 130,
   "id": "c1977ecb-139e-49e5-89e3-c5069687346f",
   "metadata": {},
   "outputs": [
    {
     "name": "stdout",
     "output_type": "stream",
     "text": [
      "+-----+-------------------+\n",
      "|abool|             min(n)|\n",
      "+-----+-------------------+\n",
      "|false| -1.261605945319069|\n",
      "| true|-1.0453771305385342|\n",
      "+-----+-------------------+\n",
      "\n"
     ]
    }
   ],
   "source": [
    "df.groupBy(df.abool).agg(min(df.n)).show()"
   ]
  },
  {
   "cell_type": "markdown",
   "id": "4a72d5d7-ed8e-4238-8de2-11cc71102875",
   "metadata": {},
   "source": [
    "    4. What is the average `n` value for each unique combination of the `group`\n",
    "       and `abool` column?"
   ]
  },
  {
   "cell_type": "code",
   "execution_count": 131,
   "id": "4a373656-1009-440f-96fd-a734f2817fdc",
   "metadata": {},
   "outputs": [
    {
     "name": "stderr",
     "output_type": "stream",
     "text": [
      "[Stage 159:>                                                        (0 + 8) / 8]\r"
     ]
    },
    {
     "name": "stdout",
     "output_type": "stream",
     "text": [
      "+-----+-----+--------------------+\n",
      "|group|abool|              avg(n)|\n",
      "+-----+-----+--------------------+\n",
      "|    z|false| 0.41313982959837514|\n",
      "|    x|false|  0.3499256615020219|\n",
      "|    y|false| 0.15907124664523611|\n",
      "|    y| true| 0.35613159255951177|\n",
      "|    z| true|  1.4786857374358966|\n",
      "|    x| true|-0.02677164998644...|\n",
      "+-----+-----+--------------------+\n",
      "\n"
     ]
    },
    {
     "name": "stderr",
     "output_type": "stream",
     "text": [
      "                                                                                \r"
     ]
    }
   ],
   "source": [
    "df.groupBy(df.group, df.abool).agg(avg(df.n)).show()"
   ]
  },
  {
   "cell_type": "markdown",
   "id": "7c9d1bd4-5467-4be6-924d-dd2143c455d1",
   "metadata": {
    "tags": []
   },
   "source": [
    "## 9. Spark SQL"
   ]
  },
  {
   "cell_type": "markdown",
   "id": "8fee5ed3-08ac-4b86-a7bb-0415e46b9f15",
   "metadata": {},
   "source": [
    "    1. Use the starter code above to re-create a spark dataframe."
   ]
  },
  {
   "cell_type": "code",
   "execution_count": 132,
   "id": "f6503789-7fb8-45df-b973-7ffb6314444e",
   "metadata": {},
   "outputs": [],
   "source": [
    "df = spark.createDataFrame(pandas_dataframe)"
   ]
  },
  {
   "cell_type": "markdown",
   "id": "4ac57f63-7b71-4dda-afb3-5076a130af33",
   "metadata": {},
   "source": [
    "    2. Turn your dataframe into a table that can be queried with spark SQL. Name\n",
    "       the table `my_df`. Answer the rest of the questions in this section with\n",
    "       a spark sql query (`spark.sql`) against `my_df`. After each step, view\n",
    "       the first 7 records from the dataframe."
   ]
  },
  {
   "cell_type": "code",
   "execution_count": 133,
   "id": "fb8178d8-27f8-4d24-9202-536d580808e8",
   "metadata": {},
   "outputs": [],
   "source": [
    "df.createOrReplaceTempView('my_df')"
   ]
  },
  {
   "cell_type": "markdown",
   "id": "0c39a7a6-e44b-4790-9194-6816612f40a4",
   "metadata": {},
   "source": [
    "    3. What happens if you make a SQL syntax error in your query?"
   ]
  },
  {
   "cell_type": "markdown",
   "id": "403534cf-67c5-48a7-bdff-08f25033d971",
   "metadata": {},
   "source": [
    "```\n",
    "spark.sql(\n",
    "'''\n",
    "SELECT #\n",
    "FROM my_df\n",
    "'''\n",
    ")\n",
    "```\n",
    "\n",
    "- Returns an error"
   ]
  },
  {
   "cell_type": "markdown",
   "id": "7b6e18dd-a33f-4227-bc48-23a73679a97d",
   "metadata": {},
   "source": [
    "    4. Write a query that shows all of the columns from your dataframe."
   ]
  },
  {
   "cell_type": "code",
   "execution_count": 137,
   "id": "f823a6b9-cffd-4b49-9e1b-2510cf0f9469",
   "metadata": {},
   "outputs": [
    {
     "name": "stdout",
     "output_type": "stream",
     "text": [
      "+--------------------+-----+-----+\n",
      "|                   n|group|abool|\n",
      "+--------------------+-----+-----+\n",
      "|  -0.712390662050588|    z|false|\n",
      "|   0.753766378659703|    x|false|\n",
      "|-0.04450307833805...|    z|false|\n",
      "| 0.45181233874578974|    y|false|\n",
      "|  1.3451017084510097|    z|false|\n",
      "|  0.5323378882945463|    y|false|\n",
      "|  1.3501878997225267|    z|false|\n",
      "|  0.8612113741693206|    x|false|\n",
      "|  1.4786857374358966|    z| true|\n",
      "| -1.0453771305385342|    y| true|\n",
      "| -0.7889890249515489|    x|false|\n",
      "|  -1.261605945319069|    y|false|\n",
      "|  0.5628467852810314|    y| true|\n",
      "|-0.24332625188556253|    y| true|\n",
      "|  0.9137407048596775|    y|false|\n",
      "| 0.31735092273633597|    x|false|\n",
      "| 0.12730328020698067|    z|false|\n",
      "|  2.1503829673811126|    y| true|\n",
      "|  0.6062886568962988|    x|false|\n",
      "|-0.02677164998644...|    x| true|\n",
      "+--------------------+-----+-----+\n",
      "\n"
     ]
    }
   ],
   "source": [
    "spark.sql(\n",
    "'''\n",
    "SELECT *\n",
    "FROM my_df\n",
    "'''\n",
    ").show()"
   ]
  },
  {
   "cell_type": "markdown",
   "id": "c3e2f198-2350-4072-9dd8-c7720c6638b9",
   "metadata": {},
   "source": [
    "    5. Write a query that shows just the `n` and `abool` columns from the\n",
    "       dataframe."
   ]
  },
  {
   "cell_type": "code",
   "execution_count": 141,
   "id": "20e49b67-47bb-422d-ba0a-b05bb70dccb2",
   "metadata": {},
   "outputs": [
    {
     "name": "stdout",
     "output_type": "stream",
     "text": [
      "+--------------------+\n",
      "|                   n|\n",
      "+--------------------+\n",
      "|  -0.712390662050588|\n",
      "|   0.753766378659703|\n",
      "|-0.04450307833805...|\n",
      "| 0.45181233874578974|\n",
      "|  1.3451017084510097|\n",
      "|  0.5323378882945463|\n",
      "|  1.3501878997225267|\n",
      "|  0.8612113741693206|\n",
      "|  1.4786857374358966|\n",
      "| -1.0453771305385342|\n",
      "| -0.7889890249515489|\n",
      "|  -1.261605945319069|\n",
      "|  0.5628467852810314|\n",
      "|-0.24332625188556253|\n",
      "|  0.9137407048596775|\n",
      "| 0.31735092273633597|\n",
      "| 0.12730328020698067|\n",
      "|  2.1503829673811126|\n",
      "|  0.6062886568962988|\n",
      "|-0.02677164998644...|\n",
      "+--------------------+\n",
      "\n"
     ]
    }
   ],
   "source": [
    "spark.sql(\n",
    "'''\n",
    "SELECT n\n",
    "FROM my_df\n",
    "'''\n",
    ").show()"
   ]
  },
  {
   "cell_type": "markdown",
   "id": "bd018cdf-41b0-461f-88d0-bbb11b0e2ee0",
   "metadata": {},
   "source": [
    "    6. Write a query that shows just the `n` and `group` columns. Rename the\n",
    "       `group` column to `g`."
   ]
  },
  {
   "cell_type": "code",
   "execution_count": 142,
   "id": "d55d7172-731f-4826-8e46-8a1778960bdd",
   "metadata": {},
   "outputs": [
    {
     "name": "stdout",
     "output_type": "stream",
     "text": [
      "+--------------------+---+\n",
      "|                   n|  g|\n",
      "+--------------------+---+\n",
      "|  -0.712390662050588|  z|\n",
      "|   0.753766378659703|  x|\n",
      "|-0.04450307833805...|  z|\n",
      "| 0.45181233874578974|  y|\n",
      "|  1.3451017084510097|  z|\n",
      "|  0.5323378882945463|  y|\n",
      "|  1.3501878997225267|  z|\n",
      "|  0.8612113741693206|  x|\n",
      "|  1.4786857374358966|  z|\n",
      "| -1.0453771305385342|  y|\n",
      "| -0.7889890249515489|  x|\n",
      "|  -1.261605945319069|  y|\n",
      "|  0.5628467852810314|  y|\n",
      "|-0.24332625188556253|  y|\n",
      "|  0.9137407048596775|  y|\n",
      "| 0.31735092273633597|  x|\n",
      "| 0.12730328020698067|  z|\n",
      "|  2.1503829673811126|  y|\n",
      "|  0.6062886568962988|  x|\n",
      "|-0.02677164998644...|  x|\n",
      "+--------------------+---+\n",
      "\n"
     ]
    }
   ],
   "source": [
    "spark.sql(\n",
    "'''\n",
    "SELECT n, group as g\n",
    "FROM my_df\n",
    "'''\n",
    ").show()"
   ]
  },
  {
   "cell_type": "markdown",
   "id": "c6af0f61-4963-402e-bf54-0ae4228a42e3",
   "metadata": {},
   "source": [
    "    7. Write a query that selects `n`, and creates two new columns: `n2`, the\n",
    "       original `n` values halved, and `n3`: the original n values minus 1."
   ]
  },
  {
   "cell_type": "code",
   "execution_count": 144,
   "id": "e2820424-a467-4579-83cb-27fa1d990838",
   "metadata": {},
   "outputs": [
    {
     "name": "stdout",
     "output_type": "stream",
     "text": [
      "+--------------------+--------------------+--------------------+\n",
      "|                   n|                  n2|                  n3|\n",
      "+--------------------+--------------------+--------------------+\n",
      "|  -0.712390662050588|  -0.356195331025294|  -1.712390662050588|\n",
      "|   0.753766378659703|  0.3768831893298515|-0.24623362134029703|\n",
      "|-0.04450307833805...|-0.02225153916902...| -1.0445030783380536|\n",
      "| 0.45181233874578974| 0.22590616937289487| -0.5481876612542103|\n",
      "|  1.3451017084510097|  0.6725508542255049| 0.34510170845100974|\n",
      "|  0.5323378882945463| 0.26616894414727316| -0.4676621117054537|\n",
      "|  1.3501878997225267|  0.6750939498612634| 0.35018789972252673|\n",
      "|  0.8612113741693206|  0.4306056870846603| -0.1387886258306794|\n",
      "|  1.4786857374358966|  0.7393428687179483|  0.4786857374358966|\n",
      "| -1.0453771305385342| -0.5226885652692671|  -2.045377130538534|\n",
      "| -0.7889890249515489|-0.39449451247577444| -1.7889890249515488|\n",
      "|  -1.261605945319069| -0.6308029726595346|  -2.261605945319069|\n",
      "|  0.5628467852810314|  0.2814233926405157| -0.4371532147189686|\n",
      "|-0.24332625188556253|-0.12166312594278127| -1.2433262518855626|\n",
      "|  0.9137407048596775| 0.45687035242983876|-0.08625929514032249|\n",
      "| 0.31735092273633597| 0.15867546136816799|  -0.682649077263664|\n",
      "| 0.12730328020698067| 0.06365164010349034| -0.8726967197930193|\n",
      "|  2.1503829673811126|  1.0751914836905563|  1.1503829673811126|\n",
      "|  0.6062886568962988|  0.3031443284481494|-0.39371134310370115|\n",
      "|-0.02677164998644...|-0.01338582499322...| -1.0267716499864408|\n",
      "+--------------------+--------------------+--------------------+\n",
      "\n"
     ]
    }
   ],
   "source": [
    "spark.sql(\n",
    "'''\n",
    "SELECT n, n/2 AS n2, n-1 AS n3\n",
    "FROM my_df\n",
    "'''\n",
    ").show()"
   ]
  },
  {
   "cell_type": "code",
   "execution_count": null,
   "id": "170a24e7-e228-4311-85f5-1f1134c8d5fe",
   "metadata": {},
   "outputs": [],
   "source": []
  }
 ],
 "metadata": {
  "kernelspec": {
   "display_name": "Python 3 (ipykernel)",
   "language": "python",
   "name": "python3"
  },
  "language_info": {
   "codemirror_mode": {
    "name": "ipython",
    "version": 3
   },
   "file_extension": ".py",
   "mimetype": "text/x-python",
   "name": "python",
   "nbconvert_exporter": "python",
   "pygments_lexer": "ipython3",
   "version": "3.9.7"
  }
 },
 "nbformat": 4,
 "nbformat_minor": 5
}
