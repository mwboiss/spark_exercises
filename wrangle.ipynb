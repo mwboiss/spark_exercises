{
 "cells": [
  {
   "cell_type": "markdown",
   "id": "c4a74a46-a865-4d3e-9af9-7282bee2aa90",
   "metadata": {},
   "source": [
    "# Spark Data Wrangling Exercises"
   ]
  },
  {
   "cell_type": "code",
   "execution_count": null,
   "id": "505f046c-c23f-4e58-8530-dff03dfb8dbc",
   "metadata": {},
   "outputs": [],
   "source": [
    "from pyspark.sql import SparkSession\n",
    "from pyspark.sql.functions import *\n",
    "\n",
    "from pyspark.sql.types import StructType, StructField, StringType\n",
    "\n",
    "spark = SparkSession.builder.getOrCreate()\n",
    "\n",
    "import warnings\n",
    "warnings.filterwarnings('ignore')"
   ]
  },
  {
   "cell_type": "markdown",
   "id": "021ee902-1980-4b41-a8f3-39d4bb73d3fc",
   "metadata": {},
   "source": [
    "## Data Acquisition"
   ]
  },
  {
   "cell_type": "markdown",
   "id": "efd0479a-9b93-419b-9486-a0d2ea8708a1",
   "metadata": {},
   "source": [
    "This exercises uses the case.csv, dept.csv, and source.csv files from the san antonio 311 call dataset."
   ]
  },
  {
   "cell_type": "markdown",
   "id": "b24f40be-834c-48fb-aa10-5509a4901bf0",
   "metadata": {},
   "source": [
    "1) Read the case, department, and source data into their own spark dataframes."
   ]
  },
  {
   "cell_type": "code",
   "execution_count": null,
   "id": "a3f94c4e-c2e8-4297-8b7b-84c7e86acaca",
   "metadata": {},
   "outputs": [],
   "source": [
    "source = spark.read.csv('source.csv', sep=\",\",header=True,inferSchema=True)\n",
    "case = spark.read.csv('case.csv', sep=\",\",header=True,inferSchema=True)\n",
    "dept = spark.read.csv('dept.csv', sep=\",\",header=True,inferSchema=True)"
   ]
  },
  {
   "cell_type": "markdown",
   "id": "3ad28fec-b69b-45a9-9314-1a2217ea2c11",
   "metadata": {},
   "source": [
    "2) Let's see how writing to the local disk works in spark:"
   ]
  },
  {
   "cell_type": "markdown",
   "id": "dedbb0d8-6151-41dc-bb91-41d7452fa43a",
   "metadata": {},
   "source": [
    "- Write the code necessary to store the source data in both csv and json format, store these as sources_csv and sources_json"
   ]
  },
  {
   "cell_type": "code",
   "execution_count": 3,
   "id": "fb8888c7-21b5-4590-a7e1-1e175148d6ee",
   "metadata": {},
   "outputs": [
    {
     "ename": "AttributeError",
     "evalue": "'DataFrame' object has no attribute 'to_json'",
     "output_type": "error",
     "traceback": [
      "\u001b[0;31m---------------------------------------------------------------------------\u001b[0m",
      "\u001b[0;31mAttributeError\u001b[0m                            Traceback (most recent call last)",
      "\u001b[0;32m/var/folders/lg/ftvnw2s97_z5h66qcl3vwwf00000gn/T/ipykernel_54175/953156089.py\u001b[0m in \u001b[0;36m<module>\u001b[0;34m\u001b[0m\n\u001b[0;32m----> 1\u001b[0;31m \u001b[0msource\u001b[0m\u001b[0;34m.\u001b[0m\u001b[0mto_json\u001b[0m\u001b[0;34m(\u001b[0m\u001b[0;34m'source_json'\u001b[0m\u001b[0;34m)\u001b[0m\u001b[0;34m\u001b[0m\u001b[0;34m\u001b[0m\u001b[0m\n\u001b[0m\u001b[1;32m      2\u001b[0m \u001b[0msource\u001b[0m\u001b[0;34m.\u001b[0m\u001b[0mto_csv\u001b[0m\u001b[0;34m(\u001b[0m\u001b[0;34m'source_csv'\u001b[0m\u001b[0;34m)\u001b[0m\u001b[0;34m\u001b[0m\u001b[0;34m\u001b[0m\u001b[0m\n",
      "\u001b[0;32m/opt/homebrew/anaconda3/lib/python3.9/site-packages/pyspark/sql/dataframe.py\u001b[0m in \u001b[0;36m__getattr__\u001b[0;34m(self, name)\u001b[0m\n\u001b[1;32m   1657\u001b[0m         \"\"\"\n\u001b[1;32m   1658\u001b[0m         \u001b[0;32mif\u001b[0m \u001b[0mname\u001b[0m \u001b[0;32mnot\u001b[0m \u001b[0;32min\u001b[0m \u001b[0mself\u001b[0m\u001b[0;34m.\u001b[0m\u001b[0mcolumns\u001b[0m\u001b[0;34m:\u001b[0m\u001b[0;34m\u001b[0m\u001b[0;34m\u001b[0m\u001b[0m\n\u001b[0;32m-> 1659\u001b[0;31m             raise AttributeError(\n\u001b[0m\u001b[1;32m   1660\u001b[0m                 \"'%s' object has no attribute '%s'\" % (self.__class__.__name__, name))\n\u001b[1;32m   1661\u001b[0m         \u001b[0mjc\u001b[0m \u001b[0;34m=\u001b[0m \u001b[0mself\u001b[0m\u001b[0;34m.\u001b[0m\u001b[0m_jdf\u001b[0m\u001b[0;34m.\u001b[0m\u001b[0mapply\u001b[0m\u001b[0;34m(\u001b[0m\u001b[0mname\u001b[0m\u001b[0;34m)\u001b[0m\u001b[0;34m\u001b[0m\u001b[0;34m\u001b[0m\u001b[0m\n",
      "\u001b[0;31mAttributeError\u001b[0m: 'DataFrame' object has no attribute 'to_json'"
     ]
    }
   ],
   "source": [
    "source.to_json('source_json')\n",
    "source.to_csv('source_csv')"
   ]
  },
  {
   "cell_type": "code",
   "execution_count": null,
   "id": "57e3471f-51d9-4d6d-942f-8ee129510afb",
   "metadata": {},
   "outputs": [],
   "source": [
    "source.show()"
   ]
  },
  {
   "cell_type": "markdown",
   "id": "15c30b55-07fb-4718-8dbc-0e3dc5b8a162",
   "metadata": {},
   "source": [
    "- Inspect your folder structure. What do you notice?"
   ]
  },
  {
   "cell_type": "code",
   "execution_count": null,
   "id": "25332215-c6d8-4025-aa91-282ce3e0ca08",
   "metadata": {},
   "outputs": [],
   "source": []
  },
  {
   "cell_type": "markdown",
   "id": "1ab9eb57-adce-499d-9da7-7666860a9bdb",
   "metadata": {},
   "source": [
    "3) Inspect the data in your dataframes. Are the data types appropriate? Write the code necessary to cast the values to the appropriate types."
   ]
  },
  {
   "cell_type": "code",
   "execution_count": null,
   "id": "f8d9e5cf-d42f-4390-8e85-0d164fbb792f",
   "metadata": {},
   "outputs": [],
   "source": []
  },
  {
   "cell_type": "markdown",
   "id": "0b85244e-11ea-4fc6-acce-2a9f25be16ae",
   "metadata": {},
   "source": [
    "## Questions"
   ]
  },
  {
   "cell_type": "markdown",
   "id": "13dbe560-fed5-488f-8003-92f749da2594",
   "metadata": {},
   "source": [
    "1) How old is the latest (in terms of days past SLA) currently open issue? How long has the oldest (in terms of days since opened) currently opened issue been open?"
   ]
  },
  {
   "cell_type": "code",
   "execution_count": null,
   "id": "3071a367-bd35-43b9-a627-8b248c915ebb",
   "metadata": {},
   "outputs": [],
   "source": []
  },
  {
   "cell_type": "markdown",
   "id": "8d20c7f0-f176-46c1-9856-a855111ca4f6",
   "metadata": {},
   "source": [
    "2) How many Stray Animal cases are there?"
   ]
  },
  {
   "cell_type": "code",
   "execution_count": null,
   "id": "f09ad1b5-6b81-4687-8d2e-92e15d16bf03",
   "metadata": {},
   "outputs": [],
   "source": []
  },
  {
   "cell_type": "markdown",
   "id": "9cec3920-325b-4985-8139-b583a19df48d",
   "metadata": {},
   "source": [
    "3) How many service requests that are assigned to the Field Operations department (dept_division) are not classified as \"Officer Standby\" request type (service_request_type)?"
   ]
  },
  {
   "cell_type": "code",
   "execution_count": null,
   "id": "14a7fe95-b08f-4d1a-9dfd-588731c354a4",
   "metadata": {},
   "outputs": [],
   "source": []
  },
  {
   "cell_type": "markdown",
   "id": "c567ca28-502d-43e6-a939-9327c3a210a3",
   "metadata": {},
   "source": [
    "4) Convert the council_district column to a string column."
   ]
  },
  {
   "cell_type": "code",
   "execution_count": null,
   "id": "869ab5d3-a312-4f63-ba3b-e3dd1f8e4218",
   "metadata": {},
   "outputs": [],
   "source": []
  },
  {
   "cell_type": "markdown",
   "id": "e49323d6-cd89-40e1-80b5-c3b882ed8845",
   "metadata": {},
   "source": [
    "5) Extract the year from the case_closed_date column."
   ]
  },
  {
   "cell_type": "code",
   "execution_count": null,
   "id": "91a62cd2-6078-4cd9-a479-1a7ba37ec667",
   "metadata": {},
   "outputs": [],
   "source": []
  },
  {
   "cell_type": "markdown",
   "id": "c0008cb7-6c5f-4ee6-b6cb-b383021d06ac",
   "metadata": {},
   "source": [
    "6) Convert num_days_late from days to hours in new columns num_hours_late."
   ]
  },
  {
   "cell_type": "code",
   "execution_count": null,
   "id": "eb4b71ae-6db9-45ce-98fa-f37adde14a79",
   "metadata": {},
   "outputs": [],
   "source": []
  },
  {
   "cell_type": "markdown",
   "id": "2fe49dae-796e-4495-becb-701011a80093",
   "metadata": {},
   "source": [
    "7) Join the case data with the source and department data."
   ]
  },
  {
   "cell_type": "code",
   "execution_count": null,
   "id": "e4ffe31f-1acb-463b-9926-1f59b146ebb9",
   "metadata": {},
   "outputs": [],
   "source": []
  },
  {
   "cell_type": "markdown",
   "id": "0dbac535-f804-4aac-8bc9-ad1cefa1a8a8",
   "metadata": {},
   "source": [
    "8) Are there any cases that do not have a request source?"
   ]
  },
  {
   "cell_type": "code",
   "execution_count": null,
   "id": "e19a8d8c-b9d7-4b74-b291-e87c0005cba5",
   "metadata": {},
   "outputs": [],
   "source": []
  },
  {
   "cell_type": "markdown",
   "id": "60996fef-ab4b-43b2-afa2-a8dd5690d00a",
   "metadata": {},
   "source": [
    "9) What are the top 10 service request types in terms of number of requests?"
   ]
  },
  {
   "cell_type": "code",
   "execution_count": null,
   "id": "aa00f056-6093-4631-868b-4f33613a7f11",
   "metadata": {},
   "outputs": [],
   "source": []
  },
  {
   "cell_type": "markdown",
   "id": "c5887e9d-cbe4-4e2e-b3c6-791b06e97784",
   "metadata": {},
   "source": [
    "10) What are the top 10 service request types in terms of average days late?"
   ]
  },
  {
   "cell_type": "code",
   "execution_count": null,
   "id": "3f900d0a-79d1-452c-9509-06b0aaec7df8",
   "metadata": {},
   "outputs": [],
   "source": []
  },
  {
   "cell_type": "markdown",
   "id": "4d6b5a79-4941-416d-b2ad-bf7b5b60c85d",
   "metadata": {},
   "source": [
    "11) Does number of days late depend on department?"
   ]
  },
  {
   "cell_type": "code",
   "execution_count": null,
   "id": "f7146a20-40ea-4064-a67a-39e85caa7b15",
   "metadata": {},
   "outputs": [],
   "source": []
  },
  {
   "cell_type": "markdown",
   "id": "771c9d08-8672-4420-ba21-c0cb4c8a67d2",
   "metadata": {},
   "source": [
    "12) How do number of days late depend on department and request type?"
   ]
  },
  {
   "cell_type": "code",
   "execution_count": null,
   "id": "cd2b45ca-5e66-445c-8640-a74b0a058872",
   "metadata": {},
   "outputs": [],
   "source": []
  },
  {
   "cell_type": "markdown",
   "id": "ce07d8aa-2156-4981-a2a5-54c3f28b57c8",
   "metadata": {},
   "source": [
    " - You might have noticed that the latest date in the dataset is fairly far off from the present day. To account for this, replace any occurances of the current time with the maximum date from the dataset."
   ]
  },
  {
   "cell_type": "code",
   "execution_count": null,
   "id": "5f3df506-d143-4f66-9c71-d8181b582e03",
   "metadata": {},
   "outputs": [],
   "source": []
  }
 ],
 "metadata": {
  "kernelspec": {
   "display_name": "Python 3 (ipykernel)",
   "language": "python",
   "name": "python3"
  },
  "language_info": {
   "codemirror_mode": {
    "name": "ipython",
    "version": 3
   },
   "file_extension": ".py",
   "mimetype": "text/x-python",
   "name": "python",
   "nbconvert_exporter": "python",
   "pygments_lexer": "ipython3",
   "version": "3.9.7"
  }
 },
 "nbformat": 4,
 "nbformat_minor": 5
}
